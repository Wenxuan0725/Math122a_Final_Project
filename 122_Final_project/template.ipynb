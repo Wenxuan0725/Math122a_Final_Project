{
 "cells": [
  {
   "cell_type": "code",
   "execution_count": 3,
   "id": "80297a75",
   "metadata": {},
   "outputs": [],
   "source": [
    "# useful packages\n",
    "import numpy as np\n",
    "import csv\n",
    "import math\n",
    "import pandas as pd\n",
    "from sklearn import preprocessing\n",
    "from sklearn import datasets\n",
    "from sklearn import cluster\n",
    "import matplotlib.pyplot as plt\n",
    "import itertools\n",
    "import autograd.numpy as np\n",
    "from autograd import grad\n",
    "from autograd import elementwise_grad as egrad\n",
    "from autograd import jacobian\n",
    "import numpy as np\n",
    "from sklearn.cluster import KMeans\n",
    "import matplotlib.pyplot as plt"
   ]
  },
  {
   "cell_type": "code",
   "execution_count": 4,
   "id": "b4416c87",
   "metadata": {},
   "outputs": [],
   "source": [
    "# load data as a dataframe with pandas\n",
    "user_history = pd.read_csv(\"user_history.csv\")\n",
    "user_history_without_user_ID = user_history.drop(['USER ID'],axis=1)\n",
    "user_ratings = pd.read_csv(\"user_ratings.csv\")"
   ]
  },
  {
   "cell_type": "code",
   "execution_count": 5,
   "id": "ba1f81b6",
   "metadata": {},
   "outputs": [
    {
     "data": {
      "text/plain": [
       "(4500, 101)"
      ]
     },
     "execution_count": 5,
     "metadata": {},
     "output_type": "execute_result"
    }
   ],
   "source": [
    "user_history.shape"
   ]
  },
  {
   "cell_type": "code",
   "execution_count": 6,
   "id": "c116be46",
   "metadata": {},
   "outputs": [
    {
     "data": {
      "text/plain": [
       "(33725, 3)"
      ]
     },
     "execution_count": 6,
     "metadata": {},
     "output_type": "execute_result"
    }
   ],
   "source": [
    "user_ratings.shape"
   ]
  },
  {
   "cell_type": "markdown",
   "id": "eae87675",
   "metadata": {},
   "source": [
    "To get a better sense of the data, using pandas, you can look at the top 5 rows using the head function:"
   ]
  },
  {
   "cell_type": "code",
   "execution_count": 7,
   "id": "3870970f",
   "metadata": {},
   "outputs": [],
   "source": [
    "# user_history.head()"
   ]
  },
  {
   "cell_type": "code",
   "execution_count": 8,
   "id": "cb2660ff",
   "metadata": {},
   "outputs": [],
   "source": [
    "# user_ratings.head()"
   ]
  },
  {
   "cell_type": "code",
   "execution_count": 9,
   "id": "414ec7b5",
   "metadata": {},
   "outputs": [],
   "source": [
    "user_ratings_table = pd.pivot_table(user_ratings,values='RATING', index='USER ID',\n",
    "                    columns='PRODUCT')\n",
    "# user_ratings_table.head()"
   ]
  },
  {
   "cell_type": "code",
   "execution_count": 10,
   "id": "88712444",
   "metadata": {},
   "outputs": [
    {
     "data": {
      "text/plain": [
       "33725"
      ]
     },
     "execution_count": 10,
     "metadata": {},
     "output_type": "execute_result"
    }
   ],
   "source": [
    "np.sum(~np.isnan(user_ratings_table.to_numpy()))"
   ]
  },
  {
   "cell_type": "code",
   "execution_count": 12,
   "id": "cef50278",
   "metadata": {},
   "outputs": [],
   "source": [
    "# encode users as indices\n",
    "le_user = preprocessing.LabelEncoder()\n",
    "le_user.fit(user_history['USER ID'])\n",
    "\n",
    "user_with_rating_index = le_user.transform(user_ratings['USER ID'])\n",
    "all_user_index = le_user.transform(user_history['USER ID'])\n",
    "user_ratings['USER INDEX'] = user_with_rating_index\n",
    "user_ratings.head()\n",
    "\n",
    "# encode products as indices\n",
    "le_product = preprocessing.LabelEncoder()\n",
    "le_product.fit(user_ratings['PRODUCT'])\n",
    "\n",
    "product_ID = le_product.transform(user_ratings['PRODUCT'])\n",
    "user_ratings['PRODUCT ID'] = product_ID\n",
    "# user_ratings.head()"
   ]
  },
  {
   "cell_type": "markdown",
   "id": "da4e67e2",
   "metadata": {},
   "source": [
    "We can take the data in user_history and turn it into a matrix using the following command:"
   ]
  },
  {
   "cell_type": "code",
   "execution_count": 13,
   "id": "199851c8",
   "metadata": {},
   "outputs": [],
   "source": [
    "X = user_history.to_numpy()"
   ]
  },
  {
   "cell_type": "markdown",
   "id": "a3958c80",
   "metadata": {},
   "source": [
    "For an introduction and short tutorial on pandas, you are invited to read over https://pandas.pydata.org/pandas-docs/stable/user_guide/10min.html."
   ]
  },
  {
   "cell_type": "code",
   "execution_count": 21,
   "id": "851a4a46",
   "metadata": {},
   "outputs": [],
   "source": [
    "u = pd.read_csv(\"3000_prediction.csv\")\n",
    "\n",
    "y_train = u.to_numpy()"
   ]
  },
  {
   "cell_type": "code",
   "execution_count": 22,
   "id": "e1d7b335",
   "metadata": {},
   "outputs": [
    {
     "data": {
      "text/plain": [
       "(3000, 77)"
      ]
     },
     "execution_count": 22,
     "metadata": {},
     "output_type": "execute_result"
    }
   ],
   "source": [
    "y_train.shape"
   ]
  },
  {
   "cell_type": "code",
   "execution_count": 23,
   "id": "32fbfc10",
   "metadata": {},
   "outputs": [],
   "source": [
    "X.shape\n",
    "x_train = X[0:3000]\n"
   ]
  },
  {
   "cell_type": "code",
   "execution_count": 24,
   "id": "ff10adae",
   "metadata": {},
   "outputs": [
    {
     "data": {
      "text/plain": [
       "(3000, 101)"
      ]
     },
     "execution_count": 24,
     "metadata": {},
     "output_type": "execute_result"
    }
   ],
   "source": [
    "x_train.shape"
   ]
  },
  {
   "cell_type": "code",
   "execution_count": null,
   "id": "a89f2646",
   "metadata": {},
   "outputs": [],
   "source": []
  },
  {
   "cell_type": "code",
   "execution_count": null,
   "id": "251c5c1e",
   "metadata": {},
   "outputs": [],
   "source": []
  },
  {
   "cell_type": "code",
   "execution_count": null,
   "id": "c8d72927",
   "metadata": {},
   "outputs": [],
   "source": []
  },
  {
   "cell_type": "code",
   "execution_count": null,
   "id": "4cf053dd",
   "metadata": {},
   "outputs": [],
   "source": []
  },
  {
   "cell_type": "code",
   "execution_count": null,
   "id": "296c0baf",
   "metadata": {},
   "outputs": [],
   "source": []
  },
  {
   "cell_type": "code",
   "execution_count": 36,
   "id": "f5864560",
   "metadata": {},
   "outputs": [
    {
     "name": "stdout",
     "output_type": "stream",
     "text": [
      "[228940320746.096, 56665581806.15474, 25563480738.157852, 14234076438.2218, 9018639879.156221, 6393708896.607219, 4681093644.012853, 3544260758.1905446, 2792688285.712222, 2241535093.622192]\n"
     ]
    }
   ],
   "source": [
    "xaxis = [1,2,3,4,5,6,7,8,9,10]\n",
    "distances = []\n",
    "for k in range(1,11):\n",
    "    kmeans_for_history = KMeans(k) \n",
    "    kmeans_for_history.fit(X)\n",
    "    labels = list(set(kmeans_for_history.labels_))\n",
    "    distance = 0\n",
    "    for i in labels:\n",
    "        center = kmeans_for_history.cluster_centers_[i]\n",
    "        points= X[kmeans_for_history.labels_==i]\n",
    "        for point in points:\n",
    "            distance += np.linalg.norm(point-center)**2\n",
    "    distances.append(distance)\n",
    "\n",
    "plt.plot(xaxis, distances)\n",
    "print(distances)"
   ]
  },
  {
   "cell_type": "code",
   "execution_count": 34,
   "id": "e8c99a05",
   "metadata": {},
   "outputs": [],
   "source": [
    "# kmeans_for_history = KMeans(3) \n",
    "# kmeans_for_history.fit(X)\n",
    "# print(\"Centroids:\", kmeans_for_history.cluster_centers_)\n",
    "# print(\"Labels:\", kmeans_for_history.labels_)"
   ]
  },
  {
   "cell_type": "code",
   "execution_count": 37,
   "id": "b79f851d",
   "metadata": {},
   "outputs": [],
   "source": [
    "dim=2\n",
    "k=2\n",
    "covariance_matrix = np.cov(X.T)\n",
    "# Using np.linalg.eig function\n",
    "eigen_values, eigen_vectors = np.linalg.eig(covariance_matrix)\n",
    "# Calculating the explained variance on each of components\n",
    "variance_explained = []\n",
    "for i in eigen_values:\n",
    "     variance_explained.append((i/sum(eigen_values))*100)\n",
    "        "
   ]
  },
  {
   "cell_type": "code",
   "execution_count": 41,
   "id": "cebc966a",
   "metadata": {},
   "outputs": [
    {
     "name": "stdout",
     "output_type": "stream",
     "text": [
      "99.9999574285831\n"
     ]
    }
   ],
   "source": [
    "print(sum(variance_explained[0:3]))\n"
   ]
  },
  {
   "cell_type": "markdown",
   "id": "fdac5d32",
   "metadata": {},
   "source": [
    "### "
   ]
  },
  {
   "cell_type": "code",
   "execution_count": 42,
   "id": "3be8b863",
   "metadata": {},
   "outputs": [],
   "source": [
    "U,S,VT = np.linalg.svd(X.T)"
   ]
  },
  {
   "cell_type": "code",
   "execution_count": 46,
   "id": "8663752c",
   "metadata": {},
   "outputs": [
    {
     "data": {
      "text/plain": [
       "(4500, 2)"
      ]
     },
     "execution_count": 46,
     "metadata": {},
     "output_type": "execute_result"
    }
   ],
   "source": [
    "projection_matrix = U[0:dim,:].T\n",
    "X_PCA = X@projection_matrix\n",
    "X_PCA.shape"
   ]
  },
  {
   "cell_type": "code",
   "execution_count": 47,
   "id": "d9448b61",
   "metadata": {},
   "outputs": [
    {
     "data": {
      "text/plain": [
       "KMeans(n_clusters=2)"
      ]
     },
     "execution_count": 47,
     "metadata": {},
     "output_type": "execute_result"
    }
   ],
   "source": [
    "kmeans_for_X_PCA= KMeans(k) \n",
    "kmeans_for_X_PCA.fit(X_PCA)"
   ]
  },
  {
   "cell_type": "code",
   "execution_count": 49,
   "id": "a93bedbd",
   "metadata": {},
   "outputs": [
    {
     "data": {
      "text/plain": [
       "[<matplotlib.lines.Line2D at 0x7fe61f078c90>]"
      ]
     },
     "execution_count": 49,
     "metadata": {},
     "output_type": "execute_result"
    }
   ],
   "source": [
    "plt.plot(X_PCA[kmeans_for_X_PCA.labels_==0,0], X_PCA[kmeans_for_X_PCA.labels_==0, 1], 'go')\n"
   ]
  },
  {
   "cell_type": "code",
   "execution_count": 52,
   "id": "fe3f2f3a",
   "metadata": {},
   "outputs": [
    {
     "data": {
      "text/plain": [
       "11"
      ]
     },
     "execution_count": 52,
     "metadata": {},
     "output_type": "execute_result"
    }
   ],
   "source": [
    "round(10.6)"
   ]
  },
  {
   "cell_type": "code",
   "execution_count": null,
   "id": "82a1a0b9",
   "metadata": {},
   "outputs": [],
   "source": []
  }
 ],
 "metadata": {
  "kernelspec": {
   "display_name": "Python 3",
   "language": "python",
   "name": "python3"
  },
  "language_info": {
   "codemirror_mode": {
    "name": "ipython",
    "version": 3
   },
   "file_extension": ".py",
   "mimetype": "text/x-python",
   "name": "python",
   "nbconvert_exporter": "python",
   "pygments_lexer": "ipython3",
   "version": "3.7.10"
  }
 },
 "nbformat": 4,
 "nbformat_minor": 5
}
