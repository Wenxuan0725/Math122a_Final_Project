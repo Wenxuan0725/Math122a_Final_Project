{
 "cells": [
  {
   "cell_type": "markdown",
   "id": "26ef6f2d",
   "metadata": {
    "id": "26ef6f2d"
   },
   "source": [
    "# Content\n",
    "\n",
    "## 1. Load data\n",
    "### 1.1 load the user history data\n",
    "### 1.2 load the user rating data \n",
    "\n",
    "## 2) Visualize the user history data\n",
    "### 2.1 Standarize the data\n",
    "### 2.2 PCA\n",
    "### 2.3 Projection onto top 2 singular vectors\n",
    "### 2.4 Produce the graphs and trace the pattern\n",
    "\n",
    "\n",
    "## 3) \n",
    "### 1.1 load the user history data\n",
    "### 1.1 load the user history data\n",
    "### 1.1 load the user history data\n",
    "### 1.1 load the user history data\n",
    "### 1.1 load the user history data\n",
    "\n",
    "## 4) \n",
    "### 1.1 load the user history data\n",
    "### 1.1 load the user history data\n",
    "### 1.1 load the user history data\n",
    "### 1.1 load the user history data\n",
    "### 1.1 load the user history data"
   ]
  },
  {
   "cell_type": "code",
   "execution_count": 1,
   "id": "b2542009",
   "metadata": {
    "executionInfo": {
     "elapsed": 126,
     "status": "ok",
     "timestamp": 1637644610863,
     "user": {
      "displayName": "Chen Wei",
      "photoUrl": "https://lh3.googleusercontent.com/a-/AOh14GiSiOAj5BAQ8wIz8WFN9J2GaoilQeyLErZp2zEs=s64",
      "userId": "15195298241757027292"
     },
     "user_tz": 300
    },
    "id": "b2542009"
   },
   "outputs": [
    {
     "ename": "ModuleNotFoundError",
     "evalue": "No module named 'missingno'",
     "output_type": "error",
     "traceback": [
      "\u001b[0;31m---------------------------------------------------------------------------\u001b[0m",
      "\u001b[0;31mModuleNotFoundError\u001b[0m                       Traceback (most recent call last)",
      "\u001b[0;32m<ipython-input-1-ec9e33d9d146>\u001b[0m in \u001b[0;36m<module>\u001b[0;34m\u001b[0m\n\u001b[1;32m      6\u001b[0m \u001b[0;32mimport\u001b[0m \u001b[0mmatplotlib\u001b[0m\u001b[0;34m.\u001b[0m\u001b[0mpyplot\u001b[0m \u001b[0;32mas\u001b[0m \u001b[0mplt\u001b[0m\u001b[0;34m\u001b[0m\u001b[0;34m\u001b[0m\u001b[0m\n\u001b[1;32m      7\u001b[0m \u001b[0;32mimport\u001b[0m \u001b[0mitertools\u001b[0m\u001b[0;34m\u001b[0m\u001b[0;34m\u001b[0m\u001b[0m\n\u001b[0;32m----> 8\u001b[0;31m \u001b[0;32mimport\u001b[0m \u001b[0mmissingno\u001b[0m \u001b[0;32mas\u001b[0m \u001b[0mmsno\u001b[0m\u001b[0;34m\u001b[0m\u001b[0;34m\u001b[0m\u001b[0m\n\u001b[0m\u001b[1;32m      9\u001b[0m \u001b[0;32mimport\u001b[0m \u001b[0mseaborn\u001b[0m \u001b[0;32mas\u001b[0m \u001b[0msns\u001b[0m\u001b[0;34m\u001b[0m\u001b[0;34m\u001b[0m\u001b[0m\n\u001b[1;32m     10\u001b[0m \u001b[0;32mimport\u001b[0m \u001b[0mplotly\u001b[0m\u001b[0;34m.\u001b[0m\u001b[0mgraph_objects\u001b[0m \u001b[0;32mas\u001b[0m \u001b[0mpgo\u001b[0m\u001b[0;34m\u001b[0m\u001b[0;34m\u001b[0m\u001b[0m\n",
      "\u001b[0;31mModuleNotFoundError\u001b[0m: No module named 'missingno'"
     ]
    }
   ],
   "source": [
    "#import packages\n",
    "import numpy as np\n",
    "import csv\n",
    "import math\n",
    "import pandas as pd\n",
    "import matplotlib.pyplot as plt\n",
    "import itertools\n",
    "import missingno as msno\n",
    "import seaborn as sns\n",
    "import plotly.graph_objects as pgo\n",
    "from sklearn.impute import SimpleImputer\n",
    "from sklearn import preprocessing\n",
    "from sklearn import datasets\n",
    "from sklearn import cluster"
   ]
  },
  {
   "cell_type": "code",
   "execution_count": null,
   "id": "2c7a9285",
   "metadata": {
    "colab": {
     "base_uri": "https://localhost:8080/"
    },
    "executionInfo": {
     "elapsed": 133,
     "status": "ok",
     "timestamp": 1637644611702,
     "user": {
      "displayName": "Chen Wei",
      "photoUrl": "https://lh3.googleusercontent.com/a-/AOh14GiSiOAj5BAQ8wIz8WFN9J2GaoilQeyLErZp2zEs=s64",
      "userId": "15195298241757027292"
     },
     "user_tz": 300
    },
    "id": "2c7a9285",
    "outputId": "6f6f5e31-bf3c-49c8-f87b-e1b63cdcd069"
   },
   "outputs": [],
   "source": [
    "# load data as a dataframe with pandas\n",
    "user_history = pd.read_csv(\"user_history.csv\")\n",
    "user_history_without_user_ID = user_history.drop(['USER ID'],axis=1)\n",
    "user_ratings = pd.read_csv(\"user_ratings.csv\")\n",
    "\n",
    "#identify the shape of user history data and user rating data\n",
    "print(user_history.shape)\n",
    "print(user_ratings.shape)"
   ]
  },
  {
   "cell_type": "code",
   "execution_count": null,
   "id": "26014d7d",
   "metadata": {
    "colab": {
     "base_uri": "https://localhost:8080/",
     "height": 504
    },
    "executionInfo": {
     "elapsed": 354,
     "status": "ok",
     "timestamp": 1637644612825,
     "user": {
      "displayName": "Chen Wei",
      "photoUrl": "https://lh3.googleusercontent.com/a-/AOh14GiSiOAj5BAQ8wIz8WFN9J2GaoilQeyLErZp2zEs=s64",
      "userId": "15195298241757027292"
     },
     "user_tz": 300
    },
    "id": "26014d7d",
    "outputId": "f454f4c9-4c2d-4930-8361-f7335a7752f0"
   },
   "outputs": [],
   "source": [
    "# check what user_history and user_ratings data looks like.\n",
    "## To make the calculation simpler, set the USER ID as the index. Then the shape of user_history becomes 4500*100\n",
    "user_history = user_history.set_index('USER ID')\n",
    "user_history"
   ]
  },
  {
   "cell_type": "code",
   "execution_count": null,
   "id": "0b7e7ea3",
   "metadata": {
    "colab": {
     "base_uri": "https://localhost:8080/",
     "height": 204
    },
    "executionInfo": {
     "elapsed": 139,
     "status": "ok",
     "timestamp": 1637644613678,
     "user": {
      "displayName": "Chen Wei",
      "photoUrl": "https://lh3.googleusercontent.com/a-/AOh14GiSiOAj5BAQ8wIz8WFN9J2GaoilQeyLErZp2zEs=s64",
      "userId": "15195298241757027292"
     },
     "user_tz": 300
    },
    "id": "0b7e7ea3",
    "outputId": "d6c0731a-5c8b-46b7-fea4-01b069623a47"
   },
   "outputs": [],
   "source": [
    "user_ratings.head()"
   ]
  },
  {
   "cell_type": "code",
   "execution_count": null,
   "id": "52cd9053",
   "metadata": {
    "colab": {
     "base_uri": "https://localhost:8080/",
     "height": 272
    },
    "executionInfo": {
     "elapsed": 356,
     "status": "ok",
     "timestamp": 1637644614579,
     "user": {
      "displayName": "Chen Wei",
      "photoUrl": "https://lh3.googleusercontent.com/a-/AOh14GiSiOAj5BAQ8wIz8WFN9J2GaoilQeyLErZp2zEs=s64",
      "userId": "15195298241757027292"
     },
     "user_tz": 300
    },
    "id": "52cd9053",
    "outputId": "7d5d5872-c898-4509-823f-83ceb26cd347"
   },
   "outputs": [],
   "source": [
    "user_ratings_table = pd.pivot_table(user_ratings,\n",
    "                                    values='RATING', \n",
    "                                    index='USER ID',\n",
    "                                    columns='PRODUCT')\n",
    "user_ratings_table.head()"
   ]
  },
  {
   "cell_type": "code",
   "execution_count": null,
   "id": "8b1bc1eb",
   "metadata": {
    "colab": {
     "base_uri": "https://localhost:8080/"
    },
    "executionInfo": {
     "elapsed": 4862,
     "status": "ok",
     "timestamp": 1637644619756,
     "user": {
      "displayName": "Chen Wei",
      "photoUrl": "https://lh3.googleusercontent.com/a-/AOh14GiSiOAj5BAQ8wIz8WFN9J2GaoilQeyLErZp2zEs=s64",
      "userId": "15195298241757027292"
     },
     "user_tz": 300
    },
    "id": "8b1bc1eb",
    "outputId": "64905934-9f3f-4f42-9dd1-26e4d5848941"
   },
   "outputs": [],
   "source": [
    "user_ratings_table.shape\n",
    "user_ratings_table.to_excel(\"./user_data.xlsx\")\n",
    "print('done')"
   ]
  },
  {
   "cell_type": "code",
   "execution_count": null,
   "id": "22e118b7",
   "metadata": {
    "colab": {
     "base_uri": "https://localhost:8080/"
    },
    "executionInfo": {
     "elapsed": 6,
     "status": "ok",
     "timestamp": 1637644619757,
     "user": {
      "displayName": "Chen Wei",
      "photoUrl": "https://lh3.googleusercontent.com/a-/AOh14GiSiOAj5BAQ8wIz8WFN9J2GaoilQeyLErZp2zEs=s64",
      "userId": "15195298241757027292"
     },
     "user_tz": 300
    },
    "id": "22e118b7",
    "outputId": "3ab318d1-a3e7-4d43-cf40-3789a274c393"
   },
   "outputs": [],
   "source": [
    "#check how many non-empty values in the dataset\n",
    "np.sum(~np.isnan(user_ratings_table.to_numpy()))"
   ]
  },
  {
   "cell_type": "code",
   "execution_count": null,
   "id": "c4afd2e7",
   "metadata": {
    "colab": {
     "base_uri": "https://localhost:8080/",
     "height": 876
    },
    "executionInfo": {
     "elapsed": 3219,
     "status": "ok",
     "timestamp": 1637644622973,
     "user": {
      "displayName": "Chen Wei",
      "photoUrl": "https://lh3.googleusercontent.com/a-/AOh14GiSiOAj5BAQ8wIz8WFN9J2GaoilQeyLErZp2zEs=s64",
      "userId": "15195298241757027292"
     },
     "user_tz": 300
    },
    "id": "c4afd2e7",
    "outputId": "0b04c823-0feb-4a9f-e6f3-571712c1153a"
   },
   "outputs": [],
   "source": [
    "#check how sparse are the data. From the msno graph, at least 84% of each product's rating is missing.\n"
   ]
  },
  {
   "cell_type": "markdown",
   "id": "9597cb6b",
   "metadata": {
    "id": "9597cb6b"
   },
   "source": [
    "From the section above, we can see there is lots of missing values. Specifically, there should be 3000* 75 data points but there is only 33725 data. So, 1 - 33725/3000 * 75 = 85.01% of the user_ratings data are missing. So under such condition, it's necessary to do matrix completion for 3000 users before train the model and make predictions for other 1500 users. "
   ]
  },
  {
   "cell_type": "markdown",
   "id": "1495f53a",
   "metadata": {
    "id": "1495f53a"
   },
   "source": [
    "## 2) Visualize the user history data"
   ]
  },
  {
   "cell_type": "code",
   "execution_count": null,
   "id": "ab490414",
   "metadata": {
    "colab": {
     "base_uri": "https://localhost:8080/",
     "height": 338
    },
    "executionInfo": {
     "elapsed": 188,
     "status": "ok",
     "timestamp": 1637644623158,
     "user": {
      "displayName": "Chen Wei",
      "photoUrl": "https://lh3.googleusercontent.com/a-/AOh14GiSiOAj5BAQ8wIz8WFN9J2GaoilQeyLErZp2zEs=s64",
      "userId": "15195298241757027292"
     },
     "user_tz": 300
    },
    "id": "ab490414",
    "outputId": "7aa29bcd-8bcb-49a2-d29e-cd55d97fa90b"
   },
   "outputs": [],
   "source": [
    "#standarize the data\n",
    "\n",
    "for i in range(0, 100):\n",
    "    user_history_meanzero = user_history.T.iloc[i,:].mean()\n",
    "    user_history_std = user_history.T.iloc[i,:].std()\n",
    "    # subtract the mean\n",
    "    # divide by the standard deviation\n",
    "    user_history.T.iloc[i,:] = (user_history.T.iloc[i,:]-user_history_meanzero)/user_history_std #standarize\n",
    "#M is the standarized matrix\n",
    "M = user_history.T\n",
    "M.head()\n",
    "\n",
    "#prepare the data for ploting and indicating the pattern"
   ]
  },
  {
   "cell_type": "code",
   "execution_count": 2,
   "id": "e56ec5ca",
   "metadata": {
    "colab": {
     "base_uri": "https://localhost:8080/",
     "height": 899
    },
    "executionInfo": {
     "elapsed": 3520,
     "status": "ok",
     "timestamp": 1637644626667,
     "user": {
      "displayName": "Chen Wei",
      "photoUrl": "https://lh3.googleusercontent.com/a-/AOh14GiSiOAj5BAQ8wIz8WFN9J2GaoilQeyLErZp2zEs=s64",
      "userId": "15195298241757027292"
     },
     "user_tz": 300
    },
    "id": "e56ec5ca",
    "outputId": "db1a06a8-5fce-450d-9b2d-224afeb179d1"
   },
   "outputs": [
    {
     "ename": "NameError",
     "evalue": "name 'M' is not defined",
     "output_type": "error",
     "traceback": [
      "\u001b[0;31m---------------------------------------------------------------------------\u001b[0m",
      "\u001b[0;31mNameError\u001b[0m                                 Traceback (most recent call last)",
      "\u001b[0;32m<ipython-input-2-268d8e9ea56c>\u001b[0m in \u001b[0;36m<module>\u001b[0;34m\u001b[0m\n\u001b[1;32m      3\u001b[0m \u001b[0;34m\u001b[0m\u001b[0m\n\u001b[1;32m      4\u001b[0m \u001b[0;31m# compute the SVD\u001b[0m\u001b[0;34m\u001b[0m\u001b[0;34m\u001b[0m\u001b[0;34m\u001b[0m\u001b[0m\n\u001b[0;32m----> 5\u001b[0;31m \u001b[0mU\u001b[0m\u001b[0;34m,\u001b[0m \u001b[0mS\u001b[0m\u001b[0;34m,\u001b[0m \u001b[0mVT\u001b[0m \u001b[0;34m=\u001b[0m \u001b[0mnp\u001b[0m\u001b[0;34m.\u001b[0m\u001b[0mlinalg\u001b[0m\u001b[0;34m.\u001b[0m\u001b[0msvd\u001b[0m\u001b[0;34m(\u001b[0m\u001b[0mM\u001b[0m\u001b[0;34m)\u001b[0m\u001b[0;34m\u001b[0m\u001b[0;34m\u001b[0m\u001b[0m\n\u001b[0m\u001b[1;32m      6\u001b[0m \u001b[0mprint\u001b[0m\u001b[0;34m(\u001b[0m\u001b[0mS\u001b[0m\u001b[0;34m)\u001b[0m\u001b[0;34m\u001b[0m\u001b[0;34m\u001b[0m\u001b[0m\n\u001b[1;32m      7\u001b[0m \u001b[0;34m\u001b[0m\u001b[0m\n",
      "\u001b[0;31mNameError\u001b[0m: name 'M' is not defined"
     ]
    }
   ],
   "source": [
    "#Plot showing the singular values.\n",
    "##Compute the fraction of the total spectrum in the top two singular values\n",
    "\n",
    "# compute the SVD\n",
    "U, S, VT = np.linalg.svd(M) \n",
    "print(S)\n",
    "\n",
    "#according to the defination of SVD, s should be (100, 4500) but it only have 100 valid singular value.\n",
    "#We will draw a graph for the singular values \n",
    "svd_figure = pgo.Figure([pgo.Bar(x= list(range(1, 101)), y = S)])\n",
    "\n",
    "svd_figure.show() #from the graph we can see the top 2 singular vectors carry most of the information. \n",
    "\n",
    "#fraction of the first 2 singular values\n",
    "fraction = np.sum(S[:2]**2)/np.sum(S**2)\n",
    "print(fraction) \n",
    "#the first 2 singular values are occupying around 59.88% of the variance (info).\n",
    "#So we can do Scatter plot of projection on first two singular vectors"
   ]
  },
  {
   "cell_type": "code",
   "execution_count": null,
   "id": "6e7aa70e",
   "metadata": {
    "colab": {
     "base_uri": "https://localhost:8080/",
     "height": 542
    },
    "executionInfo": {
     "elapsed": 533,
     "status": "ok",
     "timestamp": 1637644627197,
     "user": {
      "displayName": "Chen Wei",
      "photoUrl": "https://lh3.googleusercontent.com/a-/AOh14GiSiOAj5BAQ8wIz8WFN9J2GaoilQeyLErZp2zEs=s64",
      "userId": "15195298241757027292"
     },
     "user_tz": 300
    },
    "id": "6e7aa70e",
    "outputId": "e1e436b4-3667-404c-a049-b83a9c70f652"
   },
   "outputs": [],
   "source": [
    "# compute 2-dimensional projection\n",
    "#the top 2 singular vector V1, V2\n",
    "u1 = U[:, 0]\n",
    "u2 = U[:, 1]\n",
    "#projection\n",
    "#plot the 2-dimensional projection\n",
    "projection = pgo.Figure(data=pgo.Scatter(x=u1.T@M, y=u2.T@M, \n",
    "                                         mode=\"markers\", \n",
    "                                         marker=dict(size=16,\n",
    "                                         showscale=False)))\n",
    "projection.update_layout(showlegend=False)\n",
    "projection.show() \n",
    "#it cannot be more obvious that the users are clustered. So for the next step, \n",
    "#we will do clusters and matrix completion based on user history clusters by GD."
   ]
  },
  {
   "cell_type": "code",
   "execution_count": 3,
   "id": "bd9bd940",
   "metadata": {
    "colab": {
     "base_uri": "https://localhost:8080/",
     "height": 334
    },
    "executionInfo": {
     "elapsed": 32172,
     "status": "ok",
     "timestamp": 1637644659366,
     "user": {
      "displayName": "Chen Wei",
      "photoUrl": "https://lh3.googleusercontent.com/a-/AOh14GiSiOAj5BAQ8wIz8WFN9J2GaoilQeyLErZp2zEs=s64",
      "userId": "15195298241757027292"
     },
     "user_tz": 300
    },
    "id": "bd9bd940",
    "outputId": "69124e77-69e2-4875-8c4e-ddbb9aa2591a"
   },
   "outputs": [
    {
     "ename": "NameError",
     "evalue": "name 'cluster' is not defined",
     "output_type": "error",
     "traceback": [
      "\u001b[0;31m---------------------------------------------------------------------------\u001b[0m",
      "\u001b[0;31mNameError\u001b[0m                                 Traceback (most recent call last)",
      "\u001b[0;32m<ipython-input-3-bfef4e15de58>\u001b[0m in \u001b[0;36m<module>\u001b[0;34m\u001b[0m\n\u001b[1;32m      4\u001b[0m \u001b[0;34m\u001b[0m\u001b[0m\n\u001b[1;32m      5\u001b[0m \u001b[0;32mfor\u001b[0m \u001b[0mk\u001b[0m \u001b[0;32min\u001b[0m \u001b[0mnum_of_cluster\u001b[0m\u001b[0;34m:\u001b[0m\u001b[0;34m\u001b[0m\u001b[0;34m\u001b[0m\u001b[0m\n\u001b[0;32m----> 6\u001b[0;31m     \u001b[0mkm\u001b[0m \u001b[0;34m=\u001b[0m \u001b[0mcluster\u001b[0m\u001b[0;34m.\u001b[0m\u001b[0mKMeans\u001b[0m\u001b[0;34m(\u001b[0m\u001b[0mn_clusters\u001b[0m\u001b[0;34m=\u001b[0m\u001b[0mk\u001b[0m\u001b[0;34m)\u001b[0m\u001b[0;34m\u001b[0m\u001b[0;34m\u001b[0m\u001b[0m\n\u001b[0m\u001b[1;32m      7\u001b[0m     \u001b[0mkm\u001b[0m\u001b[0;34m.\u001b[0m\u001b[0mfit\u001b[0m\u001b[0;34m(\u001b[0m\u001b[0muser_history\u001b[0m\u001b[0;34m)\u001b[0m\u001b[0;34m\u001b[0m\u001b[0;34m\u001b[0m\u001b[0m\n\u001b[1;32m      8\u001b[0m     \u001b[0msquare_distance\u001b[0m\u001b[0;34m.\u001b[0m\u001b[0mappend\u001b[0m\u001b[0;34m(\u001b[0m\u001b[0mkm\u001b[0m\u001b[0;34m.\u001b[0m\u001b[0minertia_\u001b[0m\u001b[0;34m)\u001b[0m\u001b[0;34m\u001b[0m\u001b[0;34m\u001b[0m\u001b[0m\n",
      "\u001b[0;31mNameError\u001b[0m: name 'cluster' is not defined"
     ]
    }
   ],
   "source": [
    "# Plot number of clusters and sum of square distance\n",
    "square_distance = []\n",
    "num_of_cluster = list(range(1,20))\n",
    "\n",
    "for k in num_of_cluster:\n",
    "    km = cluster.KMeans(n_clusters=k)\n",
    "    km.fit(user_history)\n",
    "    square_distance.append(km.inertia_)\n",
    "\n",
    "plt.figure(figsize=(5,5))\n",
    "plt.plot(num_of_cluster,square_distance,'-o')\n",
    "plt.xlabel(\"number of clusters\")\n",
    "plt.ylabel(\"sum of square distance\")\n",
    "# as we can see in the plot, the number of clusters is 3\n",
    "kmeans = cluster.KMeans(3) \n",
    "kmeans.fit(user_history)\n",
    "kmeans_y = kmeans.predict(user_history)"
   ]
  },
  {
   "cell_type": "code",
   "execution_count": 4,
   "id": "e8bd43cb",
   "metadata": {
    "colab": {
     "base_uri": "https://localhost:8080/"
    },
    "executionInfo": {
     "elapsed": 7,
     "status": "ok",
     "timestamp": 1637644659367,
     "user": {
      "displayName": "Chen Wei",
      "photoUrl": "https://lh3.googleusercontent.com/a-/AOh14GiSiOAj5BAQ8wIz8WFN9J2GaoilQeyLErZp2zEs=s64",
      "userId": "15195298241757027292"
     },
     "user_tz": 300
    },
    "id": "e8bd43cb",
    "outputId": "2d2e0a08-0cae-4127-87bb-d8a253e53715"
   },
   "outputs": [
    {
     "ename": "NameError",
     "evalue": "name 'kmeans' is not defined",
     "output_type": "error",
     "traceback": [
      "\u001b[0;31m---------------------------------------------------------------------------\u001b[0m",
      "\u001b[0;31mNameError\u001b[0m                                 Traceback (most recent call last)",
      "\u001b[0;32m<ipython-input-4-940eba3755ab>\u001b[0m in \u001b[0;36m<module>\u001b[0;34m\u001b[0m\n\u001b[1;32m      4\u001b[0m \u001b[0;34m\u001b[0m\u001b[0m\n\u001b[1;32m      5\u001b[0m \u001b[0;32mfor\u001b[0m \u001b[0mi\u001b[0m \u001b[0;32min\u001b[0m \u001b[0mrange\u001b[0m\u001b[0;34m(\u001b[0m\u001b[0;36m4500\u001b[0m\u001b[0;34m)\u001b[0m\u001b[0;34m:\u001b[0m\u001b[0;34m\u001b[0m\u001b[0;34m\u001b[0m\u001b[0m\n\u001b[0;32m----> 6\u001b[0;31m     \u001b[0;32mif\u001b[0m \u001b[0mkmeans\u001b[0m\u001b[0;34m.\u001b[0m\u001b[0mlabels_\u001b[0m\u001b[0;34m[\u001b[0m\u001b[0mi\u001b[0m\u001b[0;34m]\u001b[0m \u001b[0;34m==\u001b[0m \u001b[0;36m0\u001b[0m\u001b[0;34m:\u001b[0m\u001b[0;34m\u001b[0m\u001b[0;34m\u001b[0m\u001b[0m\n\u001b[0m\u001b[1;32m      7\u001b[0m         \u001b[0mFirst_class\u001b[0m\u001b[0;34m.\u001b[0m\u001b[0mappend\u001b[0m\u001b[0;34m(\u001b[0m\u001b[0muser_history\u001b[0m\u001b[0;34m.\u001b[0m\u001b[0mindex\u001b[0m\u001b[0;34m[\u001b[0m\u001b[0mi\u001b[0m\u001b[0;34m]\u001b[0m\u001b[0;34m)\u001b[0m\u001b[0;34m\u001b[0m\u001b[0;34m\u001b[0m\u001b[0m\n\u001b[1;32m      8\u001b[0m     \u001b[0;32mif\u001b[0m \u001b[0mkmeans\u001b[0m\u001b[0;34m.\u001b[0m\u001b[0mlabels_\u001b[0m\u001b[0;34m[\u001b[0m\u001b[0mi\u001b[0m\u001b[0;34m]\u001b[0m \u001b[0;34m==\u001b[0m \u001b[0;36m1\u001b[0m\u001b[0;34m:\u001b[0m\u001b[0;34m\u001b[0m\u001b[0;34m\u001b[0m\u001b[0m\n",
      "\u001b[0;31mNameError\u001b[0m: name 'kmeans' is not defined"
     ]
    }
   ],
   "source": [
    "First_class=[]  # 3 clusters\n",
    "Second_class=[]\n",
    "Third_class=[]\n",
    "\n",
    "for i in range(4500):\n",
    "    if kmeans.labels_[i] == 0:\n",
    "        First_class.append(user_history.index[i])\n",
    "    if kmeans.labels_[i] == 1:\n",
    "        Second_class.append(user_history.index[i])\n",
    "    if kmeans.labels_[i] == 2:\n",
    "        Third_class.append(user_history.index[i])\n",
    "        \n",
    "First_class = np.asarray(First_class)\n",
    "Second_class = np.asarray(Second_class)\n",
    "Third_class = np.asarray(Third_class)\n",
    "\n",
    "print(len(First_class))\n",
    "print(len(Second_class))\n",
    "print(len(Third_class))"
   ]
  },
  {
   "cell_type": "code",
   "execution_count": 5,
   "id": "4c279cfa",
   "metadata": {
    "executionInfo": {
     "elapsed": 1179,
     "status": "ok",
     "timestamp": 1637644660542,
     "user": {
      "displayName": "Chen Wei",
      "photoUrl": "https://lh3.googleusercontent.com/a-/AOh14GiSiOAj5BAQ8wIz8WFN9J2GaoilQeyLErZp2zEs=s64",
      "userId": "15195298241757027292"
     },
     "user_tz": 300
    },
    "id": "4c279cfa"
   },
   "outputs": [
    {
     "data": {
      "text/plain": [
       "(0, 76)"
      ]
     },
     "execution_count": 5,
     "metadata": {},
     "output_type": "execute_result"
    }
   ],
   "source": [
    "reformat = pd.read_excel('user_data.xlsx')\n",
    "Clstr1_train = reformat[reformat['USER ID'].isin(First_class)]\n",
    "Clstr2_train = reformat[reformat['USER ID'].isin(Second_class)]\n",
    "Clstr3_train = reformat[reformat['USER ID'].isin(Third_class)]\n",
    "Clstr3_train.shape\n",
    "# for i in First_class:\n",
    "#     if i in Clstr1_train['USER ID'].values:\n",
    "#         continue\n",
    "#     else:\n",
    "#         Clstr1_train=Clstr1_train.append([{'USER ID': i}],ignore_index=True)\n",
    "# for i in Second_class:\n",
    "#     if i in Clstr2_train['USER ID'].values:\n",
    "#         continue\n",
    "#     else:\n",
    "#         Clstr2_train=Clstr2_train.append([{'USER ID': i}],ignore_index=True)\n",
    "# for i in Third_class:\n",
    "#     if i in Clstr3_train['USER ID'].values:\n",
    "#         continue\n",
    "#     else:\n",
    "#         Clstr3_train=Clstr3_train.append([{'USER ID': i}],ignore_index=True)"
   ]
  },
  {
   "cell_type": "code",
   "execution_count": 6,
   "id": "cae2653a",
   "metadata": {
    "colab": {
     "base_uri": "https://localhost:8080/"
    },
    "executionInfo": {
     "elapsed": 667,
     "status": "ok",
     "timestamp": 1637644661207,
     "user": {
      "displayName": "Chen Wei",
      "photoUrl": "https://lh3.googleusercontent.com/a-/AOh14GiSiOAj5BAQ8wIz8WFN9J2GaoilQeyLErZp2zEs=s64",
      "userId": "15195298241757027292"
     },
     "user_tz": 300
    },
    "id": "cae2653a",
    "outputId": "cabfebdc-b5f3-49ad-8b37-c17199ddda33"
   },
   "outputs": [
    {
     "name": "stdout",
     "output_type": "stream",
     "text": [
      "Row Number 0\n",
      "Col Number 75\n",
      "Row Number 0\n",
      "Col Number 75\n",
      "Row Number 0\n",
      "Col Number 75\n"
     ]
    }
   ],
   "source": [
    "def load_rating_clusters(dataframe):\n",
    "    users = []  # for users to be loaded\n",
    "    products = [] # for products to be loaded\n",
    "    mapusers = [] # for mapusers to be loaded---we are trying to map the categorical user names into numerical values\n",
    "    mapproducts = [] # for mapproducts to be loaded---we are trying to map as well the categorical product names into numerical values\n",
    "    ratings = []  # for ratings to be loaded\n",
    "    temp1 = dataframe.iloc[:,1:76] # we only load the data without loading any name (at index 0)\n",
    "    temp2 = np.array(temp1) # change into an array (an array of arrays)\n",
    "    rownumber = len(temp2) # array's length (outer number of arrays)\n",
    "    colnumber = temp2.shape[1] # each inner array's length (number of data in each row)\n",
    "    # Get ndArray of all column names \n",
    "    columnNames = list(dataframe.columns) # change dataframe into list\n",
    "    columnNames.remove(columnNames[0]) # remove the item 'USER_ID'\n",
    "    columnNames = np.asarray(columnNames) # change list into array\n",
    "    # Get ndArray of all row names \n",
    "    rowNames = dataframe.iloc[:, 0] # get column 0's row names\n",
    "    rowNames = np.array(rowNames) # change into an array of row names\n",
    "    \"\"\"You can see the number of rows/columns when loading the data for clusters\"\"\"\n",
    "    print(\"Row Number\", rownumber)\n",
    "    print(\"Col Number\", colnumber)\n",
    "#     print(rowNames)\n",
    "#     print(columnNames)\n",
    "\n",
    "    \"\"\"\n",
    "    Using an outer and an inner loop to traverse the entire 2D-array, temp2, by rows and for rows by columns---\n",
    "    if we encounter any NAN data (which means unrated-ness), we skip this and proceed to the next data;\n",
    "    otherwise we load this data into respective lists in such a way:\n",
    "    1. first, add the user name this data belongs to into the users list for each iteration (access this name through rowNames array)\n",
    "    2. then add the row index into the mapusers list\n",
    "    3. and then add the product name this data rates against into the products list for each iteration (access this name through\n",
    "    columnNames array)\n",
    "    4. then store the column index into the mapproducts list\n",
    "    5. finally append the rating data itself into the ratings list.\n",
    "    \"\"\"\n",
    "    for i in range(rownumber): # outer loop\n",
    "        for j in range(colnumber): # inner loop\n",
    "            if np.isnan(temp2[i,j]): # checking whether data is NAN, i.e., not rated\n",
    "                continue # skip and proceed\n",
    "            users.append(rowNames[i]) # step 1.\n",
    "            mapusers.append(i)  # step 2.\n",
    "            products.append(columnNames[j]) # step 3.\n",
    "            mapproducts.append(j) # step 4.\n",
    "            ratings.append(temp2[i,j]) # step 5.\n",
    "    # change all these lists into arrays\n",
    "    users = np.array(users)\n",
    "    products = np.array(products)\n",
    "    mapusers = np.array(mapusers)\n",
    "    mapproducts = np.array(mapproducts)\n",
    "    ratings = np.array(ratings)\n",
    "    return users,products,ratings,mapusers,mapproducts\n",
    "\n",
    "# do the actual loading of these 3 clusters\n",
    "users1_train,products1_train,ratings1_train,mapusers1_train,mapproducts1_train = load_rating_clusters(Clstr1_train)\n",
    "users2_train,products2_train,ratings2_train,mapusers2_train,mapproducts2_train = load_rating_clusters(Clstr2_train)\n",
    "users3_train,products3_train,ratings3_train,mapusers3_train,mapproducts3_train = load_rating_clusters(Clstr3_train)\n",
    "# print(len(users1_train),len(products1_train),len(ratings1_train),len(mapusers1_train),len(mapproducts1_train))\n",
    "# print(users1_train,products1_train,ratings1_train,mapusers1_train,mapproducts1_train)"
   ]
  },
  {
   "cell_type": "code",
   "execution_count": 7,
   "id": "1ae3beb3",
   "metadata": {
    "colab": {
     "base_uri": "https://localhost:8080/"
    },
    "executionInfo": {
     "elapsed": 70069,
     "status": "ok",
     "timestamp": 1637644731274,
     "user": {
      "displayName": "Chen Wei",
      "photoUrl": "https://lh3.googleusercontent.com/a-/AOh14GiSiOAj5BAQ8wIz8WFN9J2GaoilQeyLErZp2zEs=s64",
      "userId": "15195298241757027292"
     },
     "user_tz": 300
    },
    "id": "1ae3beb3",
    "outputId": "199e3aa7-4359-49f8-a8a7-2ccb0e44d80c"
   },
   "outputs": [
    {
     "name": "stdout",
     "output_type": "stream",
     "text": [
      "nan\n",
      "nan\n",
      "nan\n"
     ]
    },
    {
     "name": "stderr",
     "output_type": "stream",
     "text": [
      "/opt/anaconda3/lib/python3.8/site-packages/numpy/core/_methods.py:261: RuntimeWarning: Degrees of freedom <= 0 for slice\n",
      "  ret = _var(a, axis=axis, dtype=dtype, out=out, ddof=ddof,\n",
      "/opt/anaconda3/lib/python3.8/site-packages/numpy/core/_methods.py:221: RuntimeWarning: invalid value encountered in true_divide\n",
      "  arrmean = um.true_divide(arrmean, div, out=arrmean, casting='unsafe',\n",
      "/opt/anaconda3/lib/python3.8/site-packages/numpy/core/_methods.py:253: RuntimeWarning: invalid value encountered in double_scalars\n",
      "  ret = ret.dtype.type(ret / rcount)\n",
      "<ipython-input-7-e4f02a91d29f>:14: RuntimeWarning: Mean of empty slice.\n",
      "  b = np.sqrt(5 - raw_predictions.mean()/s) # We want to start out with average rating equal to 5\n",
      "/opt/anaconda3/lib/python3.8/site-packages/numpy/core/_methods.py:188: RuntimeWarning: invalid value encountered in double_scalars\n",
      "  ret = ret.dtype.type(ret / rcount)\n"
     ]
    },
    {
     "ename": "IndexError",
     "evalue": "arrays used as indices must be of integer (or boolean) type",
     "output_type": "error",
     "traceback": [
      "\u001b[0;31m---------------------------------------------------------------------------\u001b[0m",
      "\u001b[0;31mIndexError\u001b[0m                                Traceback (most recent call last)",
      "\u001b[0;32m<ipython-input-7-e4f02a91d29f>\u001b[0m in \u001b[0;36m<module>\u001b[0;34m\u001b[0m\n\u001b[1;32m     80\u001b[0m \u001b[0msgd_model_2\u001b[0m \u001b[0;34m=\u001b[0m \u001b[0minitialize\u001b[0m\u001b[0;34m(\u001b[0m\u001b[0mlen\u001b[0m\u001b[0;34m(\u001b[0m\u001b[0mlist\u001b[0m\u001b[0;34m(\u001b[0m\u001b[0mnp\u001b[0m\u001b[0;34m.\u001b[0m\u001b[0munique\u001b[0m\u001b[0;34m(\u001b[0m\u001b[0musers2_train\u001b[0m\u001b[0;34m)\u001b[0m\u001b[0;34m)\u001b[0m\u001b[0;34m)\u001b[0m\u001b[0;34m,\u001b[0m \u001b[0;36m75\u001b[0m\u001b[0;34m)\u001b[0m\u001b[0;34m\u001b[0m\u001b[0;34m\u001b[0m\u001b[0m\n\u001b[1;32m     81\u001b[0m \u001b[0msgd_model_3\u001b[0m \u001b[0;34m=\u001b[0m \u001b[0minitialize\u001b[0m\u001b[0;34m(\u001b[0m\u001b[0mlen\u001b[0m\u001b[0;34m(\u001b[0m\u001b[0mlist\u001b[0m\u001b[0;34m(\u001b[0m\u001b[0mnp\u001b[0m\u001b[0;34m.\u001b[0m\u001b[0munique\u001b[0m\u001b[0;34m(\u001b[0m\u001b[0musers3_train\u001b[0m\u001b[0;34m)\u001b[0m\u001b[0;34m)\u001b[0m\u001b[0;34m)\u001b[0m\u001b[0;34m,\u001b[0m \u001b[0;36m75\u001b[0m\u001b[0;34m)\u001b[0m\u001b[0;34m\u001b[0m\u001b[0;34m\u001b[0m\u001b[0m\n\u001b[0;32m---> 82\u001b[0;31m \u001b[0mtraining_process_1\u001b[0m \u001b[0;34m=\u001b[0m \u001b[0mtrain_sgd\u001b[0m\u001b[0;34m(\u001b[0m\u001b[0msgd_model_1\u001b[0m\u001b[0;34m,\u001b[0m \u001b[0;36m50\u001b[0m\u001b[0;34m,\u001b[0m \u001b[0musers1_train\u001b[0m\u001b[0;34m,\u001b[0m \u001b[0mproducts1_train\u001b[0m\u001b[0;34m,\u001b[0m \u001b[0mratings1_train\u001b[0m\u001b[0;34m,\u001b[0m\u001b[0mmapusers1_train\u001b[0m\u001b[0;34m,\u001b[0m\u001b[0mmapproducts1_train\u001b[0m\u001b[0;34m)\u001b[0m\u001b[0;34m\u001b[0m\u001b[0;34m\u001b[0m\u001b[0m\n\u001b[0m\u001b[1;32m     83\u001b[0m \u001b[0mtraining_process_2\u001b[0m \u001b[0;34m=\u001b[0m \u001b[0mtrain_sgd\u001b[0m\u001b[0;34m(\u001b[0m\u001b[0msgd_model_2\u001b[0m\u001b[0;34m,\u001b[0m \u001b[0;36m50\u001b[0m\u001b[0;34m,\u001b[0m \u001b[0musers2_train\u001b[0m\u001b[0;34m,\u001b[0m \u001b[0mproducts2_train\u001b[0m\u001b[0;34m,\u001b[0m \u001b[0mratings2_train\u001b[0m\u001b[0;34m,\u001b[0m\u001b[0mmapusers2_train\u001b[0m\u001b[0;34m,\u001b[0m\u001b[0mmapproducts2_train\u001b[0m\u001b[0;34m)\u001b[0m\u001b[0;34m\u001b[0m\u001b[0;34m\u001b[0m\u001b[0m\n\u001b[1;32m     84\u001b[0m \u001b[0mtraining_process_3\u001b[0m \u001b[0;34m=\u001b[0m \u001b[0mtrain_sgd\u001b[0m\u001b[0;34m(\u001b[0m\u001b[0msgd_model_3\u001b[0m\u001b[0;34m,\u001b[0m \u001b[0;36m50\u001b[0m\u001b[0;34m,\u001b[0m \u001b[0musers3_train\u001b[0m\u001b[0;34m,\u001b[0m \u001b[0mproducts3_train\u001b[0m\u001b[0;34m,\u001b[0m \u001b[0mratings3_train\u001b[0m\u001b[0;34m,\u001b[0m\u001b[0mmapusers3_train\u001b[0m\u001b[0;34m,\u001b[0m\u001b[0mmapproducts3_train\u001b[0m\u001b[0;34m)\u001b[0m\u001b[0;34m\u001b[0m\u001b[0;34m\u001b[0m\u001b[0m\n",
      "\u001b[0;32m<ipython-input-7-e4f02a91d29f>\u001b[0m in \u001b[0;36mtrain_sgd\u001b[0;34m(model, epochs, train_users, train_products, train_ratings, mapusers_train, mapproducts_train)\u001b[0m\n\u001b[1;32m     71\u001b[0m         \u001b[0;31m# after each Epoch, we'll evaluate our model\u001b[0m\u001b[0;34m\u001b[0m\u001b[0;34m\u001b[0m\u001b[0;34m\u001b[0m\u001b[0m\n\u001b[1;32m     72\u001b[0m         \u001b[0mpredicted\u001b[0m \u001b[0;34m=\u001b[0m \u001b[0mpredict\u001b[0m\u001b[0;34m(\u001b[0m\u001b[0mmodel\u001b[0m\u001b[0;34m)\u001b[0m\u001b[0;34m\u001b[0m\u001b[0;34m\u001b[0m\u001b[0m\n\u001b[0;32m---> 73\u001b[0;31m         \u001b[0mtrain_loss\u001b[0m \u001b[0;34m=\u001b[0m \u001b[0mnp\u001b[0m\u001b[0;34m.\u001b[0m\u001b[0mmean\u001b[0m\u001b[0;34m(\u001b[0m\u001b[0;34m(\u001b[0m\u001b[0mtrain_ratings\u001b[0m \u001b[0;34m-\u001b[0m \u001b[0mpredicted\u001b[0m\u001b[0;34m[\u001b[0m\u001b[0mmapusers_train\u001b[0m\u001b[0;34m,\u001b[0m\u001b[0mmapproducts_train\u001b[0m\u001b[0;34m]\u001b[0m\u001b[0;34m)\u001b[0m\u001b[0;34m**\u001b[0m\u001b[0;36m2\u001b[0m\u001b[0;34m)\u001b[0m\u001b[0;34m\u001b[0m\u001b[0;34m\u001b[0m\u001b[0m\n\u001b[0m\u001b[1;32m     74\u001b[0m         \u001b[0mtraining_process\u001b[0m\u001b[0;34m.\u001b[0m\u001b[0mappend\u001b[0m\u001b[0;34m(\u001b[0m\u001b[0;34m(\u001b[0m\u001b[0mepoch\u001b[0m\u001b[0;34m,\u001b[0m\u001b[0mtrain_loss\u001b[0m\u001b[0;34m)\u001b[0m\u001b[0;34m)\u001b[0m\u001b[0;34m\u001b[0m\u001b[0;34m\u001b[0m\u001b[0m\n\u001b[1;32m     75\u001b[0m         \u001b[0mprint\u001b[0m\u001b[0;34m(\u001b[0m\u001b[0;34m\"Loss after epoch #{} is: train/{}\"\u001b[0m\u001b[0;34m.\u001b[0m\u001b[0mformat\u001b[0m\u001b[0;34m(\u001b[0m\u001b[0mepoch\u001b[0m\u001b[0;34m+\u001b[0m\u001b[0;36m1\u001b[0m\u001b[0;34m,\u001b[0m \u001b[0mtrain_loss\u001b[0m\u001b[0;34m)\u001b[0m\u001b[0;34m)\u001b[0m\u001b[0;34m\u001b[0m\u001b[0;34m\u001b[0m\u001b[0m\n",
      "\u001b[0;31mIndexError\u001b[0m: arrays used as indices must be of integer (or boolean) type"
     ]
    }
   ],
   "source": [
    "learning_rate = 0.005\n",
    "\n",
    "def initialize(n_users, n_products):\n",
    "    \"\"\"Initialize a random model, and normalize it so that it has sensible mean and variance\"\"\"\n",
    "    # (The normalization helps make sure we start out at a reasonable parameter scale, which speeds up training)\n",
    "    user_features = np.random.normal(size=(n_users,10)) # still setting the number of features as 10\n",
    "    product_features = np.random.normal(size=(n_products,10)) # still setting the number of features as 10\n",
    "    # the line of code down below uses the \"predict(model)\" method (where the model parameter itself contains two arrays,\n",
    "    # one keeping track of users' features, the other keeping track of products' features)\n",
    "    raw_predictions = predict((user_features, product_features)) # calls the \"predict(model)\" method\n",
    "\n",
    "    s = np.sqrt(2*raw_predictions.std()) # We want to start out with roughly unit variance\n",
    "    print(s)\n",
    "    b = np.sqrt(5 - raw_predictions.mean()/s) # We want to start out with average rating equal to 5\n",
    "    user_features /= s # this line and the next three lines finish the normalizing process\n",
    "    user_features += b\n",
    "    product_features /= s\n",
    "    product_features += b\n",
    "    \n",
    "    return (user_features, product_features) # return the 2 normalized arrays that completes the initialization\n",
    "\n",
    "def predict(model):\n",
    "    \"\"\"The model's predictions for all user/product pairs\"\"\"\n",
    "    user_features, product_features = model\n",
    "    return user_features @ product_features.T # returns the product of multiplying user_features matrix by the transpose of product_features\n",
    "\n",
    "def single_example_step(model, user, product, rating, train_users, train_products):\n",
    "    \"\"\"Update the model using the gradient at a single training example\"\"\"\n",
    "    user_features, product_features = model\n",
    "    # we only consider rating which is not 'nan'\n",
    "\n",
    "    # the line of coding down below calculates the difference (residual) between the dot product (which is a scalar number) for\n",
    "    # each specific user-product pair (dot product of two 10D-vectors) and the actual rating (also a scalar number)\n",
    "    residual = np.dot(user_features[user], product_features[product]) - rating\n",
    "    grad_users = 2 * residual * product_features[product] # the gradient for the user_features matrix, by taking partial derivatives against users (that's why a 1D product features array appears)\n",
    "    grad_products = 2 * residual * user_features[user] # the gradient for the product_features matrix, by taking partial derivatives against products (that's why a 1D user features array appears)\n",
    "    user_features[user] -= learning_rate*grad_users  # for each step, we reduce each 1D user features array by the learning rate (which we set as 0.005) times its gradient\n",
    "    product_features[product] -= learning_rate*grad_products  # for each step, we reduce each 1D product features array by the learning rate (which we set as 0.005) times its gradient\n",
    "\n",
    "def train_sgd(model, epochs, train_users, train_products, train_ratings,mapusers_train,mapproducts_train):\n",
    "    \"\"\"Train the model for a number of epochs via SGD (batch size=1)\"\"\"\n",
    "    user_features, movie_features = model\n",
    "    # It's good practice to shuffle your data before doing batch gradient descent,\n",
    "    # so that each mini-batch peforms like a random sample from the dataset\n",
    "\n",
    "    training_process = []  # initialize an empty list\n",
    "    uniquetrain_users = list(np.unique(train_users))  # we pick all unique user values for the training set to get rid of all repeated values\n",
    "    uniquetrain_products = list(np.unique(train_products))  # similarly, we pick all unique product values for the training set to get rid of all repeated values\n",
    "    # do the shuffle (next 4 lines below) against all these users & products data for training sets to get rid of the correlation between these data values as much as possible\n",
    "    shuffle = np.random.permutation(len(train_users))\n",
    "    shuffled_users = train_users[shuffle]\n",
    "    shuffled_products = train_products[shuffle]\n",
    "    shuffled_ratings = train_ratings[shuffle]\n",
    "    \n",
    "    \"\"\"\n",
    "    Using an outer and an inner loop to traverse all such combinations of (user, product, feature)---\n",
    "    if we encounter any NAN data, we skip this and proceed to the next data;\n",
    "    otherwise we update the respective data into respective lists in such a way:\n",
    "    1. figure out the new index of each user\n",
    "    2. then figure out the new index of each product\n",
    "    3. and finally call the \"single_example_step(model, user, product, rating, train_users, train_products)\" to conduct the updating process\n",
    "    \"\"\"\n",
    "    for epoch in range(epochs):\n",
    "        for user, product, rating in zip(shuffled_users, shuffled_products, shuffled_ratings):\n",
    "            # update the model using the gradient at a single example\n",
    "            if np.isnan(rating):\n",
    "                continue\n",
    "            user = uniquetrain_users.index(user)\n",
    "            product = uniquetrain_products.index(product)\n",
    "            single_example_step(model, user, product, rating, uniquetrain_users, uniquetrain_products)\n",
    "        # after each Epoch, we'll evaluate our model\n",
    "        predicted = predict(model)\n",
    "        train_loss = np.mean((train_ratings - predicted[mapusers_train,mapproducts_train])**2)\n",
    "        training_process.append((epoch,train_loss))\n",
    "        print(\"Loss after epoch #{} is: train/{}\".format(epoch+1, train_loss))\n",
    "    return training_process\n",
    "\n",
    "# Below we generate 3 raw SGD models, one for each cluster, and conduct training process for each of these 3 models\n",
    "sgd_model_1 = initialize(len(list(np.unique(users1_train))), 75)\n",
    "sgd_model_2 = initialize(len(list(np.unique(users2_train))), 75)\n",
    "sgd_model_3 = initialize(len(list(np.unique(users3_train))), 75)\n",
    "training_process_1 = train_sgd(sgd_model_1, 50, users1_train, products1_train, ratings1_train,mapusers1_train,mapproducts1_train)\n",
    "training_process_2 = train_sgd(sgd_model_2, 50, users2_train, products2_train, ratings2_train,mapusers2_train,mapproducts2_train)\n",
    "training_process_3 = train_sgd(sgd_model_3, 50, users3_train, products3_train, ratings3_train,mapusers3_train,mapproducts3_train)"
   ]
  },
  {
   "cell_type": "code",
   "execution_count": null,
   "id": "a5e5aea8",
   "metadata": {
    "executionInfo": {
     "elapsed": 11,
     "status": "ok",
     "timestamp": 1637644731275,
     "user": {
      "displayName": "Chen Wei",
      "photoUrl": "https://lh3.googleusercontent.com/a-/AOh14GiSiOAj5BAQ8wIz8WFN9J2GaoilQeyLErZp2zEs=s64",
      "userId": "15195298241757027292"
     },
     "user_tz": 300
    },
    "id": "a5e5aea8"
   },
   "outputs": [],
   "source": [
    "# Dealing with the ratings that are beyound the range 0-10\n",
    "def boundary(data):\n",
    "    row = len(data)\n",
    "    column = len(data[0])\n",
    "    for i in range (row):\n",
    "        for j in range(column):\n",
    "            if data[i,j]>10:\n",
    "                data[i,j]=10\n",
    "            elif data[i,j]<0:\n",
    "                data[i,j]=0\n",
    "            else:\n",
    "                data[i,j] = round(data[i,j])\n",
    "    return data"
   ]
  },
  {
   "cell_type": "code",
   "execution_count": null,
   "id": "abcf429e",
   "metadata": {
    "colab": {
     "base_uri": "https://localhost:8080/",
     "height": 232
    },
    "executionInfo": {
     "elapsed": 572,
     "status": "error",
     "timestamp": 1637644771462,
     "user": {
      "displayName": "Chen Wei",
      "photoUrl": "https://lh3.googleusercontent.com/a-/AOh14GiSiOAj5BAQ8wIz8WFN9J2GaoilQeyLErZp2zEs=s64",
      "userId": "15195298241757027292"
     },
     "user_tz": 300
    },
    "id": "abcf429e",
    "outputId": "e071a425-3092-4797-b6ac-ce38a2afc5bf"
   },
   "outputs": [],
   "source": [
    "# generate the prediction for these three groups\n",
    "predicted_1 = predict(sgd_model_1)\n",
    "predicted_1_new = boundary(predicted_1)\n",
    "\n",
    "predicted_2 = predict(sgd_model_2)\n",
    "predicted_2_new = boundary(predicted_2)\n",
    "\n",
    "predicted_3 = predict(sgd_model_3)\n",
    "predicted_3_new = boundary(predicted_3)\n",
    "\n",
    "# generate the data frame for these three groups\n",
    "dfpredicted_1 = pd.DataFrame(predicted_1_new,index = Clstr1_train.index,columns = Clstr1_train.columns[1:])\n",
    "dfpredicted_1.insert(0,'USER ID', Clstr1_train['USER ID'])\n",
    "dfpredicted_2 = pd.DataFrame(predicted_2_new,index = Clstr2_train.index,columns = Clstr2_train.columns[1:])\n",
    "dfpredicted_2.insert(0,'USER ID', Clstr2_train['USER ID'])\n",
    "dfpredicted_3 = pd.DataFrame(predicted_3_new,index = Clstr3_train.index,columns = Clstr3_train.columns[1:])\n",
    "dfpredicted_3.insert(0,'USER ID', Clstr3_train['USER ID'])"
   ]
  },
  {
   "cell_type": "code",
   "execution_count": null,
   "id": "d6f744b1",
   "metadata": {
    "colab": {
     "base_uri": "https://localhost:8080/",
     "height": 507
    },
    "executionInfo": {
     "elapsed": 135,
     "status": "error",
     "timestamp": 1637644775043,
     "user": {
      "displayName": "Chen Wei",
      "photoUrl": "https://lh3.googleusercontent.com/a-/AOh14GiSiOAj5BAQ8wIz8WFN9J2GaoilQeyLErZp2zEs=s64",
      "userId": "15195298241757027292"
     },
     "user_tz": 300
    },
    "id": "d6f744b1",
    "outputId": "2369631c-1390-439d-fc88-2022efe47a17"
   },
   "outputs": [],
   "source": [
    "# Replace the missing ratings by our predictions\n",
    "Clstr1_train[Clstr1_train.isnull()] = dfpredicted_1[Clstr1_train.isnull()]\n",
    "Clstr2_train[Clstr2_train.isnull()] = dfpredicted_2[Clstr2_train.isnull()]\n",
    "Clstr3_train[Clstr3_train.isnull()] = dfpredicted_3[Clstr3_train.isnull()]\n",
    "# # Combine three groups together\n",
    "Clstr_train = pd.concat([Clstr1_train,Clstr2_train,Clstr3_train])\n",
    "# Sort them by user id\n",
    "Clstr_train = Clstr_train.sort_values(by=\"USER ID\",ascending=True).round(1)\n",
    "# Export them to csv file\n",
    "Clstr_train.to_csv(\"3000_prediction.csv\",index=False)"
   ]
  },
  {
   "cell_type": "markdown",
   "id": "064f9d82",
   "metadata": {
    "id": "f7fc1add"
   },
   "source": []
  },
  {
   "cell_type": "code",
   "execution_count": null,
   "id": "803ff281",
   "metadata": {
    "id": "803ff281",
    "outputId": "ce4b83fc-401e-45ae-e466-8d1b3b24a052"
   },
   "outputs": [],
   "source": [
    "# # encode users as indices\n",
    "# le_user = preprocessing.LabelEncoder()\n",
    "# le_user.fit(user_history['USER ID'])\n",
    "\n",
    "# user_with_rating_index = le_user.transform(user_ratings['USER ID'])\n",
    "# all_user_index = le_user.transform(user_history['USER ID'])\n",
    "# user_ratings['USER INDEX'] = user_with_rating_index\n",
    "# user_ratings.head()\n",
    "\n",
    "# # encode products as indices\n",
    "# le_product = preprocessing.LabelEncoder()\n",
    "# le_product.fit(user_ratings['PRODUCT'])\n",
    "\n",
    "# product_ID = le_product.transform(user_ratings['PRODUCT'])\n",
    "# user_ratings['PRODUCT ID'] = product_ID\n",
    "# user_ratings.head()"
   ]
  },
  {
   "cell_type": "markdown",
   "id": "423f8000",
   "metadata": {
    "id": "423f8000"
   },
   "source": [
    "We can take the data in user_history and turn it into a matrix using the following command:"
   ]
  },
  {
   "cell_type": "markdown",
   "id": "b4ef2e82",
   "metadata": {
    "id": "b4ef2e82"
   },
   "source": [
    "For an introduction and short tutorial on pandas, you are invited to read over https://pandas.pydata.org/pandas-docs/stable/user_guide/10min.html."
   ]
  },
  {
   "cell_type": "markdown",
   "id": "ef5cf191",
   "metadata": {},
   "source": [
    "# Prediction based on User_history"
   ]
  },
  {
   "cell_type": "markdown",
   "id": "347732e5",
   "metadata": {},
   "source": [
    "We first standarddized the user_history and cluster them into 3\n",
    "(Doing this again because previous work gave us clusters of User_ID)"
   ]
  },
  {
   "cell_type": "code",
   "execution_count": 8,
   "id": "65ed9453",
   "metadata": {},
   "outputs": [
    {
     "ename": "NameError",
     "evalue": "name 'user_history' is not defined",
     "output_type": "error",
     "traceback": [
      "\u001b[0;31m---------------------------------------------------------------------------\u001b[0m",
      "\u001b[0;31mNameError\u001b[0m                                 Traceback (most recent call last)",
      "\u001b[0;32m<ipython-input-8-9d7083ccf6f5>\u001b[0m in \u001b[0;36m<module>\u001b[0;34m\u001b[0m\n\u001b[1;32m      2\u001b[0m \u001b[0;34m\u001b[0m\u001b[0m\n\u001b[1;32m      3\u001b[0m \u001b[0;32mfor\u001b[0m \u001b[0mi\u001b[0m \u001b[0;32min\u001b[0m \u001b[0mrange\u001b[0m\u001b[0;34m(\u001b[0m\u001b[0;36m0\u001b[0m\u001b[0;34m,\u001b[0m \u001b[0;36m100\u001b[0m\u001b[0;34m)\u001b[0m\u001b[0;34m:\u001b[0m\u001b[0;34m\u001b[0m\u001b[0;34m\u001b[0m\u001b[0m\n\u001b[0;32m----> 4\u001b[0;31m     \u001b[0muser_history_meanzero\u001b[0m \u001b[0;34m=\u001b[0m \u001b[0muser_history\u001b[0m\u001b[0;34m.\u001b[0m\u001b[0mT\u001b[0m\u001b[0;34m.\u001b[0m\u001b[0miloc\u001b[0m\u001b[0;34m[\u001b[0m\u001b[0mi\u001b[0m\u001b[0;34m,\u001b[0m\u001b[0;34m:\u001b[0m\u001b[0;34m]\u001b[0m\u001b[0;34m.\u001b[0m\u001b[0mmean\u001b[0m\u001b[0;34m(\u001b[0m\u001b[0;34m)\u001b[0m\u001b[0;34m\u001b[0m\u001b[0;34m\u001b[0m\u001b[0m\n\u001b[0m\u001b[1;32m      5\u001b[0m     \u001b[0muser_history_std\u001b[0m \u001b[0;34m=\u001b[0m \u001b[0muser_history\u001b[0m\u001b[0;34m.\u001b[0m\u001b[0mT\u001b[0m\u001b[0;34m.\u001b[0m\u001b[0miloc\u001b[0m\u001b[0;34m[\u001b[0m\u001b[0mi\u001b[0m\u001b[0;34m,\u001b[0m\u001b[0;34m:\u001b[0m\u001b[0;34m]\u001b[0m\u001b[0;34m.\u001b[0m\u001b[0mstd\u001b[0m\u001b[0;34m(\u001b[0m\u001b[0;34m)\u001b[0m\u001b[0;34m\u001b[0m\u001b[0;34m\u001b[0m\u001b[0m\n\u001b[1;32m      6\u001b[0m     \u001b[0;31m# subtract the mean\u001b[0m\u001b[0;34m\u001b[0m\u001b[0;34m\u001b[0m\u001b[0;34m\u001b[0m\u001b[0m\n",
      "\u001b[0;31mNameError\u001b[0m: name 'user_history' is not defined"
     ]
    }
   ],
   "source": [
    "#standarize the data\n",
    "\n",
    "for i in range(0, 100):\n",
    "    user_history_meanzero = user_history.T.iloc[i,:].mean()\n",
    "    user_history_std = user_history.T.iloc[i,:].std()\n",
    "    # subtract the mean\n",
    "    # divide by the standard deviation\n",
    "    user_history.T.iloc[i,:] = (user_history.T.iloc[i,:]-user_history_meanzero)/user_history_std #standarize\n",
    "#M is the standarized matrix\n",
    "M = user_history\n",
    "M = M.sort_index()\n"
   ]
  },
  {
   "cell_type": "markdown",
   "id": "dcd186ec",
   "metadata": {},
   "source": [
    "First 3000 users; cluster thier history_data"
   ]
  },
  {
   "cell_type": "code",
   "execution_count": 9,
   "id": "e5ed9f1e",
   "metadata": {},
   "outputs": [
    {
     "ename": "NameError",
     "evalue": "name 'M' is not defined",
     "output_type": "error",
     "traceback": [
      "\u001b[0;31m---------------------------------------------------------------------------\u001b[0m",
      "\u001b[0;31mNameError\u001b[0m                                 Traceback (most recent call last)",
      "\u001b[0;32m<ipython-input-9-c105d06a22d3>\u001b[0m in \u001b[0;36m<module>\u001b[0;34m\u001b[0m\n\u001b[1;32m      6\u001b[0m \u001b[0mC3_ID\u001b[0m \u001b[0;34m=\u001b[0m \u001b[0;34m[\u001b[0m\u001b[0;34m]\u001b[0m\u001b[0;34m\u001b[0m\u001b[0;34m\u001b[0m\u001b[0m\n\u001b[1;32m      7\u001b[0m \u001b[0;32mfor\u001b[0m \u001b[0mi\u001b[0m \u001b[0;32min\u001b[0m \u001b[0mrange\u001b[0m\u001b[0;34m(\u001b[0m\u001b[0;36m0\u001b[0m\u001b[0;34m,\u001b[0m\u001b[0;36m3000\u001b[0m\u001b[0;34m)\u001b[0m\u001b[0;34m:\u001b[0m\u001b[0;34m\u001b[0m\u001b[0;34m\u001b[0m\u001b[0m\n\u001b[0;32m----> 8\u001b[0;31m     \u001b[0;32mif\u001b[0m \u001b[0mM\u001b[0m\u001b[0;34m.\u001b[0m\u001b[0miloc\u001b[0m\u001b[0;34m[\u001b[0m\u001b[0mi\u001b[0m\u001b[0;34m]\u001b[0m\u001b[0;34m.\u001b[0m\u001b[0mname\u001b[0m \u001b[0;32min\u001b[0m \u001b[0mFirst_class\u001b[0m\u001b[0;34m:\u001b[0m\u001b[0;34m\u001b[0m\u001b[0;34m\u001b[0m\u001b[0m\n\u001b[0m\u001b[1;32m      9\u001b[0m         \u001b[0mC1\u001b[0m\u001b[0;34m.\u001b[0m\u001b[0mappend\u001b[0m\u001b[0;34m(\u001b[0m\u001b[0mM\u001b[0m\u001b[0;34m.\u001b[0m\u001b[0miloc\u001b[0m\u001b[0;34m[\u001b[0m\u001b[0mi\u001b[0m\u001b[0;34m]\u001b[0m\u001b[0;34m.\u001b[0m\u001b[0mto_numpy\u001b[0m\u001b[0;34m(\u001b[0m\u001b[0;34m)\u001b[0m\u001b[0;34m)\u001b[0m\u001b[0;34m\u001b[0m\u001b[0;34m\u001b[0m\u001b[0m\n\u001b[1;32m     10\u001b[0m         \u001b[0mC1_ID\u001b[0m\u001b[0;34m.\u001b[0m\u001b[0mappend\u001b[0m\u001b[0;34m(\u001b[0m\u001b[0mM\u001b[0m\u001b[0;34m.\u001b[0m\u001b[0miloc\u001b[0m\u001b[0;34m[\u001b[0m\u001b[0mi\u001b[0m\u001b[0;34m]\u001b[0m\u001b[0;34m.\u001b[0m\u001b[0mname\u001b[0m\u001b[0;34m)\u001b[0m\u001b[0;34m\u001b[0m\u001b[0;34m\u001b[0m\u001b[0m\n",
      "\u001b[0;31mNameError\u001b[0m: name 'M' is not defined"
     ]
    }
   ],
   "source": [
    "C1 = []\n",
    "C2 = []\n",
    "C3 = []\n",
    "C1_ID = []\n",
    "C2_ID = []\n",
    "C3_ID = []\n",
    "for i in range(0,3000):\n",
    "    if M.iloc[i].name in First_class:\n",
    "        C1.append(M.iloc[i].to_numpy())\n",
    "        C1_ID.append(M.iloc[i].name)\n",
    "    elif M.iloc[i].name in Second_class:\n",
    "        C2.append(M.iloc[i].to_numpy())\n",
    "        C2_ID.append(M.iloc[i].name)\n",
    "    elif M.iloc[i].name in Third_class:\n",
    "        C3.append(M.iloc[i].to_numpy())\n",
    "        C3_ID.append(M.iloc[i].name)\n",
    "C1 = np.array(C1)\n",
    "C2 = np.array(C2)\n",
    "C3 = np.array(C3)"
   ]
  },
  {
   "cell_type": "markdown",
   "id": "9d1b6e8c",
   "metadata": {},
   "source": [
    "1500 users (unsenn in rating matrix); perform similar cluter"
   ]
  },
  {
   "cell_type": "code",
   "execution_count": 10,
   "id": "399ce7b4",
   "metadata": {},
   "outputs": [
    {
     "ename": "NameError",
     "evalue": "name 'M' is not defined",
     "output_type": "error",
     "traceback": [
      "\u001b[0;31m---------------------------------------------------------------------------\u001b[0m",
      "\u001b[0;31mNameError\u001b[0m                                 Traceback (most recent call last)",
      "\u001b[0;32m<ipython-input-10-f022153a1fb2>\u001b[0m in \u001b[0;36m<module>\u001b[0;34m\u001b[0m\n\u001b[1;32m      6\u001b[0m \u001b[0mU3_ID\u001b[0m \u001b[0;34m=\u001b[0m \u001b[0;34m[\u001b[0m\u001b[0;34m]\u001b[0m\u001b[0;34m\u001b[0m\u001b[0;34m\u001b[0m\u001b[0m\n\u001b[1;32m      7\u001b[0m \u001b[0;32mfor\u001b[0m \u001b[0mi\u001b[0m \u001b[0;32min\u001b[0m \u001b[0mrange\u001b[0m\u001b[0;34m(\u001b[0m\u001b[0;36m3000\u001b[0m\u001b[0;34m,\u001b[0m\u001b[0;36m4500\u001b[0m\u001b[0;34m)\u001b[0m\u001b[0;34m:\u001b[0m\u001b[0;34m\u001b[0m\u001b[0;34m\u001b[0m\u001b[0m\n\u001b[0;32m----> 8\u001b[0;31m     \u001b[0;32mif\u001b[0m \u001b[0mM\u001b[0m\u001b[0;34m.\u001b[0m\u001b[0miloc\u001b[0m\u001b[0;34m[\u001b[0m\u001b[0mi\u001b[0m\u001b[0;34m]\u001b[0m\u001b[0;34m.\u001b[0m\u001b[0mname\u001b[0m \u001b[0;32min\u001b[0m \u001b[0mFirst_class\u001b[0m\u001b[0;34m:\u001b[0m\u001b[0;34m\u001b[0m\u001b[0;34m\u001b[0m\u001b[0m\n\u001b[0m\u001b[1;32m      9\u001b[0m         \u001b[0mU1\u001b[0m\u001b[0;34m.\u001b[0m\u001b[0mappend\u001b[0m\u001b[0;34m(\u001b[0m\u001b[0mM\u001b[0m\u001b[0;34m.\u001b[0m\u001b[0miloc\u001b[0m\u001b[0;34m[\u001b[0m\u001b[0mi\u001b[0m\u001b[0;34m]\u001b[0m\u001b[0;34m.\u001b[0m\u001b[0mto_numpy\u001b[0m\u001b[0;34m(\u001b[0m\u001b[0;34m)\u001b[0m\u001b[0;34m)\u001b[0m\u001b[0;34m\u001b[0m\u001b[0;34m\u001b[0m\u001b[0m\n\u001b[1;32m     10\u001b[0m         \u001b[0mU1_ID\u001b[0m\u001b[0;34m.\u001b[0m\u001b[0mappend\u001b[0m\u001b[0;34m(\u001b[0m\u001b[0mM\u001b[0m\u001b[0;34m.\u001b[0m\u001b[0miloc\u001b[0m\u001b[0;34m[\u001b[0m\u001b[0mi\u001b[0m\u001b[0;34m]\u001b[0m\u001b[0;34m.\u001b[0m\u001b[0mname\u001b[0m\u001b[0;34m)\u001b[0m\u001b[0;34m\u001b[0m\u001b[0;34m\u001b[0m\u001b[0m\n",
      "\u001b[0;31mNameError\u001b[0m: name 'M' is not defined"
     ]
    }
   ],
   "source": [
    "U1 = []\n",
    "U2 = []\n",
    "U3 = []\n",
    "U1_ID = []\n",
    "U2_ID = []\n",
    "U3_ID = []\n",
    "for i in range(3000,4500):\n",
    "    if M.iloc[i].name in First_class:\n",
    "        U1.append(M.iloc[i].to_numpy())\n",
    "        U1_ID.append(M.iloc[i].name)\n",
    "    elif M.iloc[i].name in Second_class:\n",
    "        U2.append(M.iloc[i].to_numpy())\n",
    "        U2_ID.append(M.iloc[i].name)\n",
    "    elif M.iloc[i].name in Third_class:\n",
    "        U3.append(M.iloc[i].to_numpy())\n",
    "        U3_ID.append(M.iloc[i].name)\n",
    "U1 = np.array(U1)\n",
    "U2 = np.array(U2)\n",
    "U3 = np.array(U3)\n",
    "U1_ID = np.array(U1_ID,dtype=int)\n",
    "U2_ID = np.array(U2_ID,dtype=int)\n",
    "U3_ID= np.array(U3_ID,dtype=int)\n",
    "\n",
    "U1_ID = np.resize(U1_ID,(len(U1_ID),1))\n",
    "U2_ID = np.resize(U2_ID,(len(U2_ID),1))\n",
    "U3_ID= np.resize(U3_ID,(len(U3_ID),1))\n",
    "print(U1_ID[0])"
   ]
  },
  {
   "cell_type": "markdown",
   "id": "50884b8c",
   "metadata": {},
   "source": [
    "Cluster movie rate from users according thier User_ID"
   ]
  },
  {
   "cell_type": "code",
   "execution_count": 24,
   "id": "cf33b5d9",
   "metadata": {},
   "outputs": [],
   "source": [
    "labels = pd.read_csv(\"3000_prediction.csv\")\n",
    "labels = labels.set_index('USER ID')\n",
    "labels = labels.sort_index()\n"
   ]
  },
  {
   "cell_type": "code",
   "execution_count": 25,
   "id": "4ebbeb1f",
   "metadata": {},
   "outputs": [],
   "source": [
    "C1_label = []\n",
    "C2_label = []\n",
    "C3_label = []\n",
    "C1_label_ID = []\n",
    "C2_label_ID = []\n",
    "C3_label_ID = []\n",
    "for i in range(0,3000):\n",
    "    if labels.iloc[i].name in First_class:\n",
    "        C1_label.append(labels.iloc[i].to_numpy())\n",
    "        C1_label_ID.append(labels.iloc[i].name)\n",
    "    elif labels.iloc[i].name in Second_class:\n",
    "        C2_label.append(labels.iloc[i].to_numpy())\n",
    "        C2_label_ID.append(labels.iloc[i].name)\n",
    "    elif labels.iloc[i].name in Third_class:\n",
    "        C3_label.append(labels.iloc[i].to_numpy())\n",
    "        C3_label_ID.append(labels.iloc[i].name)\n",
    "C1_label = np.array(C1_label)\n",
    "C2_label = np.array(C2_label)\n",
    "C3_label = np.array(C3_label)"
   ]
  },
  {
   "cell_type": "code",
   "execution_count": 26,
   "id": "76675441",
   "metadata": {},
   "outputs": [
    {
     "data": {
      "text/plain": [
       "True"
      ]
     },
     "execution_count": 26,
     "metadata": {},
     "output_type": "execute_result"
    }
   ],
   "source": [
    "C1_label_ID == C1_ID"
   ]
  },
  {
   "cell_type": "markdown",
   "id": "beab172c",
   "metadata": {},
   "source": [
    "Right now, we have 3 features matrix; their size are (?,100); \n",
    "also, we have 3 label matrix; their size are (?,75)"
   ]
  },
  {
   "cell_type": "markdown",
   "id": "1e6cd0bf",
   "metadata": {},
   "source": [
    "Perform PCA on these three matrix to reduce dimensionality "
   ]
  },
  {
   "cell_type": "markdown",
   "id": "616a754f",
   "metadata": {},
   "source": [
    "# Ridge Regression"
   ]
  },
  {
   "cell_type": "code",
   "execution_count": 27,
   "id": "0acda693",
   "metadata": {},
   "outputs": [],
   "source": [
    "import numpy as np\n",
    "from sklearn import linear_model\n",
    "#Cluster1\n",
    "x1_train = C1[0:800]\n",
    "y1_train = C1_label[0:800]\n",
    "x1_test = C1[800:]\n",
    "y1_test = C1_label[800:]\n",
    "#Cluster2\n",
    "x2_train = C2[0:800]\n",
    "y2_train = C2_label[0:800]\n",
    "x2_test = C2[800:]\n",
    "y2_test = C2_label[800:]\n",
    "#Cluster2\n",
    "x3_train = C3[0:800]\n",
    "y3_train = C3_label[0:800]\n",
    "x3_test = C3[800:]\n",
    "y3_test = C3_label[800:]"
   ]
  },
  {
   "cell_type": "code",
   "execution_count": 28,
   "id": "dbec6438",
   "metadata": {},
   "outputs": [
    {
     "name": "stdout",
     "output_type": "stream",
     "text": [
      "<class 'numpy.ndarray'>\n"
     ]
    },
    {
     "data": {
      "text/plain": [
       "[1.070521327014218, 0.9356013745704468, 0.9973333333333333]"
      ]
     },
     "execution_count": 28,
     "metadata": {},
     "output_type": "execute_result"
    }
   ],
   "source": [
    "MSEs= []\n",
    "#Cluster1\n",
    "ridge_model_1 = linear_model.RidgeCV()\n",
    "ridge_model_1.fit(x1_train, y1_train)\n",
    "result1 = ridge_model_1.predict(x1_test)\n",
    "result1 = boundary(result1)\n",
    "MSE1 = np.mean((result1 - y1_test)**2)\n",
    "#Cluster2\n",
    "ridge_model_2 = linear_model.RidgeCV()\n",
    "ridge_model_2.fit(x2_train, y2_train)\n",
    "result2 = ridge_model_2.predict(x2_test)\n",
    "result2 = boundary(result2)\n",
    "MSE2 = np.mean((result2 - y2_test)**2)\n",
    "#Cluster3\n",
    "ridge_model_3 = linear_model.RidgeCV()\n",
    "ridge_model_3.fit(x3_train, y3_train)\n",
    "result3 = ridge_model_3.predict(x3_test)\n",
    "result3 = boundary(result3)\n",
    "print(type(result3))\n",
    "MSE3 = np.mean((result3 - y3_test)**2)\n",
    "\n",
    "MSEs.append(MSE1)\n",
    "MSEs.append(MSE2)\n",
    "MSEs.append(MSE3)\n",
    "MSEs\n",
    "#We can see ridge model fit well!!!!"
   ]
  },
  {
   "cell_type": "markdown",
   "id": "1f7122f2",
   "metadata": {},
   "source": [
    "Next, use these three ridge model to predict the unseen users based on the cluster they are in"
   ]
  },
  {
   "cell_type": "code",
   "execution_count": 29,
   "id": "1c6aaf88",
   "metadata": {},
   "outputs": [],
   "source": [
    "#Cluster1\n",
    "u1 = ridge_model_1.predict(U1)\n",
    "u1 = boundary(u1)\n",
    "#Cluster2\n",
    "u2 = ridge_model_2.predict(U2)\n",
    "u2 = boundary(u2)\n",
    "#Cluster3\n",
    "u3 = ridge_model_3.predict(U3)\n",
    "u3 = boundary(u3)\n",
    "\n",
    "P1 = np.concatenate((U1_ID, u1), axis=1)\n",
    "P2 = np.concatenate((U2_ID, u2), axis=1)\n",
    "P3 = np.concatenate((U3_ID, u3), axis=1)\n"
   ]
  },
  {
   "cell_type": "code",
   "execution_count": 30,
   "id": "20506d08",
   "metadata": {},
   "outputs": [
    {
     "data": {
      "text/plain": [
       "array([[117475,      8,      4, ...,      2,      3,     10],\n",
       "       [117509,      7,      5, ...,      4,      5,      6],\n",
       "       [117548,      1,      6, ...,      6,      3,      1],\n",
       "       ...,\n",
       "       [125614,      4,      6, ...,      7,      5,      8],\n",
       "       [125636,      1,      3, ...,      7,      2,      4],\n",
       "       [125645,      5,      2, ...,      1,      6,      1]])"
      ]
     },
     "execution_count": 30,
     "metadata": {},
     "output_type": "execute_result"
    }
   ],
   "source": [
    "final_1500_matrix_for_ridge =  np.concatenate((P1,P2,P3), axis=0)\n",
    "final_1500_matrix_for_ridge=final_1500_matrix_for_ridge.astype(int)\n",
    "final_1500_matrix_for_ridge"
   ]
  },
  {
   "cell_type": "markdown",
   "id": "5c0c8fd3",
   "metadata": {},
   "source": [
    "Form CSV files. "
   ]
  },
  {
   "cell_type": "code",
   "execution_count": 31,
   "id": "cd1514c4",
   "metadata": {},
   "outputs": [],
   "source": [
    "fields = ['USER ID', 'adrian crater', 'anagram mentor', 'apropos pizza', 'bandit anatomy', 'banjo ladder', 'barcode arnold', 'bazooka diagram', 'bronze mystic', 'calypso zigzag', 'casino unit', 'civil book', 'company polo', 'conan antenna', 'current pony', 'diploma moment', 'distant list', 'evita soviet', 'forum bravo', 'front salami', 'garden jimmy', 'helium exact', 'horizon norway', 'house vodka', 'image jessica', 'imagine disco', 'inch fragile', 'june monica', 'kayak analog', 'kitchen active', 'lobster diana', 'lotus sherman', 'meteor slalom', 'meter sigma', 'mexico stretch', 'motor modular', 'nina sailor', 'ninja history', 'optimal recycle', 'oregano option', 'oxford open', 'panic inside', 'pepper chicago', 'peru king', 'picnic locate', 'popcorn shannon', 'premium bread', 'process volume', 'risk corona', 'ritual product', 'sabine danube', 'saint desert', 'salsa impress', 'salute joshua', 'scale nepal', 'secret postage', 'sensor child', 'ship canal', 'spend oberon', 'stop tropic', 'story respect', 'strong plume', 'studio classic', 'sweet alert', 'swing martin', 'topic rover', 'tourist micro', 'tripod stand', 'update lola', 'ventura puzzle', 'viking llama', 'violet saga', 'vista queen', 'viva avalon', 'voodoo planet', 'wheel gibson']"
   ]
  },
  {
   "cell_type": "code",
   "execution_count": 32,
   "id": "7e48ffec",
   "metadata": {},
   "outputs": [],
   "source": [
    "df = pd.DataFrame(final_1500_matrix_for_ridge, columns = fields)\n",
    "df.sort_values('USER ID')\n",
    "df.head()\n",
    "df.to_csv('ridge_prediction_1500.csv',index=False)"
   ]
  },
  {
   "cell_type": "code",
   "execution_count": 33,
   "id": "3cb2ab23",
   "metadata": {},
   "outputs": [],
   "source": [
    "df2 = pd.read_csv(\"3000_prediction.csv\")\n",
    "frames = [df2, df]\n",
    "result = pd.concat(frames)\n",
    "result.sort_values('USER ID')\n",
    "result.to_csv('ridge_prediction_4500.csv',index=False)"
   ]
  },
  {
   "cell_type": "markdown",
   "id": "b81af83f",
   "metadata": {},
   "source": [
    "# SGD"
   ]
  },
  {
   "cell_type": "code",
   "execution_count": 34,
   "id": "2d8f110d",
   "metadata": {},
   "outputs": [],
   "source": [
    "import numpy as np\n",
    "from sklearn import linear_model\n",
    "#Cluster1\n",
    "x1_train = C1[0:800]\n",
    "y1_train = C1_label[0:800]\n",
    "x1_test = C1[800:]\n",
    "y1_test = C1_label[800:]\n",
    "#Cluster2\n",
    "x2_train = C2[0:800]\n",
    "y2_train = C2_label[0:800]\n",
    "x2_test = C2[800:]\n",
    "y2_test = C2_label[800:]\n",
    "#Cluster2\n",
    "x3_train = C3[0:800]\n",
    "y3_train = C3_label[0:800]\n",
    "x3_test = C3[800:]\n",
    "y3_test = C3_label[800:]"
   ]
  },
  {
   "cell_type": "code",
   "execution_count": 35,
   "id": "125fe526",
   "metadata": {},
   "outputs": [],
   "source": [
    "from keras.models import Sequential\n",
    "from keras.layers import Flatten, Dense\n",
    "from tensorflow.keras.regularizers import l2\n",
    "#Cluster1\n",
    "SGD_model_1 = Sequential()\n",
    "SGD_model_1.add(Dense(90, activation='relu',\n",
    "                 input_shape=(100,)))\n",
    "SGD_model_1.add(Dense(80, activation='relu'))\n",
    "SGD_model_1.add(Dense(77, activation='relu'))\n",
    "SGD_model_1.add(Dense(75))\n",
    "#Cluster2\n",
    "SGD_model_2 = Sequential()\n",
    "SGD_model_2.add(Dense(90, activation='relu',\n",
    "                 input_shape=(100,)))\n",
    "SGD_model_2.add(Dense(80, activation='relu'))\n",
    "SGD_model_2.add(Dense(77, activation='relu'))\n",
    "SGD_model_2.add(Dense(75))\n",
    "#Cluster3\n",
    "SGD_model_3 = Sequential()\n",
    "SGD_model_3.add(Dense(90, activation='relu',\n",
    "              input_shape=(100,)))\n",
    "SGD_model_3.add(Dense(80, activation='relu'))\n",
    "SGD_model_3.add(Dense(77, activation='relu'))\n",
    "SGD_model_3.add(Dense(75))\n"
   ]
  },
  {
   "cell_type": "code",
   "execution_count": 36,
   "id": "0db5a46f",
   "metadata": {},
   "outputs": [
    {
     "name": "stdout",
     "output_type": "stream",
     "text": [
      "Epoch 1/100\n",
      "40/40 [==============================] - 0s 3ms/step - loss: 31.3535 - val_loss: 31.7134\n",
      "Epoch 2/100\n",
      "40/40 [==============================] - 0s 887us/step - loss: 30.3002 - val_loss: 30.4391\n",
      "Epoch 3/100\n",
      "40/40 [==============================] - 0s 804us/step - loss: 28.4137 - val_loss: 27.5645\n",
      "Epoch 4/100\n",
      "40/40 [==============================] - 0s 848us/step - loss: 23.4778 - val_loss: 19.5555\n",
      "Epoch 5/100\n",
      "40/40 [==============================] - 0s 1ms/step - loss: 13.3946 - val_loss: 9.5241\n",
      "Epoch 6/100\n",
      "40/40 [==============================] - 0s 899us/step - loss: 7.7077 - val_loss: 7.1281\n",
      "Epoch 7/100\n",
      "40/40 [==============================] - 0s 891us/step - loss: 6.5564 - val_loss: 6.5754\n",
      "Epoch 8/100\n",
      "40/40 [==============================] - 0s 887us/step - loss: 6.2367 - val_loss: 6.3480\n",
      "Epoch 9/100\n",
      "40/40 [==============================] - 0s 826us/step - loss: 6.0821 - val_loss: 6.2105\n",
      "Epoch 10/100\n",
      "40/40 [==============================] - 0s 839us/step - loss: 5.9619 - val_loss: 6.0798\n",
      "Epoch 11/100\n",
      "40/40 [==============================] - 0s 847us/step - loss: 5.8488 - val_loss: 5.9609\n",
      "Epoch 12/100\n",
      "40/40 [==============================] - 0s 856us/step - loss: 5.7310 - val_loss: 5.8384\n",
      "Epoch 13/100\n",
      "40/40 [==============================] - 0s 807us/step - loss: 5.6021 - val_loss: 5.7005\n",
      "Epoch 14/100\n",
      "40/40 [==============================] - 0s 880us/step - loss: 5.4615 - val_loss: 5.5545\n",
      "Epoch 15/100\n",
      "40/40 [==============================] - 0s 812us/step - loss: 5.3032 - val_loss: 5.3844\n",
      "Epoch 16/100\n",
      "40/40 [==============================] - 0s 840us/step - loss: 5.1266 - val_loss: 5.2066\n",
      "Epoch 17/100\n",
      "40/40 [==============================] - 0s 863us/step - loss: 4.9338 - val_loss: 5.0036\n",
      "Epoch 18/100\n",
      "40/40 [==============================] - 0s 874us/step - loss: 4.7222 - val_loss: 4.7794\n",
      "Epoch 19/100\n",
      "40/40 [==============================] - 0s 1ms/step - loss: 4.4925 - val_loss: 4.5503\n",
      "Epoch 20/100\n",
      "40/40 [==============================] - 0s 816us/step - loss: 4.2585 - val_loss: 4.3110\n",
      "Epoch 21/100\n",
      "40/40 [==============================] - 0s 891us/step - loss: 4.0225 - val_loss: 4.0746\n",
      "Epoch 22/100\n",
      "40/40 [==============================] - 0s 811us/step - loss: 3.7935 - val_loss: 3.8472\n",
      "Epoch 23/100\n",
      "40/40 [==============================] - 0s 788us/step - loss: 3.5779 - val_loss: 3.6330\n",
      "Epoch 24/100\n",
      "40/40 [==============================] - 0s 838us/step - loss: 3.3816 - val_loss: 3.4341\n",
      "Epoch 25/100\n",
      "40/40 [==============================] - 0s 866us/step - loss: 3.1962 - val_loss: 3.2469\n",
      "Epoch 26/100\n",
      "40/40 [==============================] - 0s 888us/step - loss: 3.0280 - val_loss: 3.0739\n",
      "Epoch 27/100\n",
      "40/40 [==============================] - 0s 821us/step - loss: 2.8697 - val_loss: 2.9085\n",
      "Epoch 28/100\n",
      "40/40 [==============================] - 0s 821us/step - loss: 2.7211 - val_loss: 2.7543\n",
      "Epoch 29/100\n",
      "40/40 [==============================] - 0s 808us/step - loss: 2.5804 - val_loss: 2.6082\n",
      "Epoch 30/100\n",
      "40/40 [==============================] - 0s 856us/step - loss: 2.4464 - val_loss: 2.4582\n",
      "Epoch 31/100\n",
      "40/40 [==============================] - 0s 825us/step - loss: 2.3161 - val_loss: 2.3161\n",
      "Epoch 32/100\n",
      "40/40 [==============================] - 0s 886us/step - loss: 2.1907 - val_loss: 2.1807\n",
      "Epoch 33/100\n",
      "40/40 [==============================] - 0s 816us/step - loss: 2.0711 - val_loss: 2.0518\n",
      "Epoch 34/100\n",
      "40/40 [==============================] - 0s 883us/step - loss: 1.9573 - val_loss: 1.9323\n",
      "Epoch 35/100\n",
      "40/40 [==============================] - 0s 846us/step - loss: 1.8487 - val_loss: 1.8238\n",
      "Epoch 36/100\n",
      "40/40 [==============================] - 0s 872us/step - loss: 1.7488 - val_loss: 1.7173\n",
      "Epoch 37/100\n",
      "40/40 [==============================] - 0s 899us/step - loss: 1.6576 - val_loss: 1.6252\n",
      "Epoch 38/100\n",
      "40/40 [==============================] - 0s 898us/step - loss: 1.5747 - val_loss: 1.5384\n",
      "Epoch 39/100\n",
      "40/40 [==============================] - 0s 1ms/step - loss: 1.4995 - val_loss: 1.4633\n",
      "Epoch 40/100\n",
      "40/40 [==============================] - 0s 1ms/step - loss: 1.4333 - val_loss: 1.3957\n",
      "Epoch 41/100\n",
      "40/40 [==============================] - 0s 1ms/step - loss: 1.3751 - val_loss: 1.3393\n",
      "Epoch 42/100\n",
      "40/40 [==============================] - 0s 988us/step - loss: 1.3244 - val_loss: 1.2865\n",
      "Epoch 43/100\n",
      "40/40 [==============================] - 0s 991us/step - loss: 1.2798 - val_loss: 1.2438\n",
      "Epoch 44/100\n",
      "40/40 [==============================] - 0s 991us/step - loss: 1.2404 - val_loss: 1.2064\n",
      "Epoch 45/100\n",
      "40/40 [==============================] - 0s 994us/step - loss: 1.2069 - val_loss: 1.1741\n",
      "Epoch 46/100\n",
      "40/40 [==============================] - 0s 959us/step - loss: 1.1771 - val_loss: 1.1432\n",
      "Epoch 47/100\n",
      "40/40 [==============================] - 0s 987us/step - loss: 1.1512 - val_loss: 1.1177\n",
      "Epoch 48/100\n",
      "40/40 [==============================] - 0s 1ms/step - loss: 1.1289 - val_loss: 1.0955\n",
      "Epoch 49/100\n",
      "40/40 [==============================] - 0s 1ms/step - loss: 1.1093 - val_loss: 1.0771\n",
      "Epoch 50/100\n",
      "40/40 [==============================] - 0s 1ms/step - loss: 1.0922 - val_loss: 1.0593\n",
      "Epoch 51/100\n",
      "40/40 [==============================] - 0s 1ms/step - loss: 1.0772 - val_loss: 1.0458\n",
      "Epoch 52/100\n",
      "40/40 [==============================] - 0s 1ms/step - loss: 1.0641 - val_loss: 1.0337\n",
      "Epoch 53/100\n",
      "40/40 [==============================] - 0s 1ms/step - loss: 1.0532 - val_loss: 1.0240\n",
      "Epoch 54/100\n",
      "40/40 [==============================] - 0s 1ms/step - loss: 1.0434 - val_loss: 1.0153\n",
      "Epoch 55/100\n",
      "40/40 [==============================] - 0s 1ms/step - loss: 1.0346 - val_loss: 1.0059\n",
      "Epoch 56/100\n",
      "40/40 [==============================] - 0s 1ms/step - loss: 1.0262 - val_loss: 0.9984\n",
      "Epoch 57/100\n",
      "40/40 [==============================] - 0s 1ms/step - loss: 1.0198 - val_loss: 0.9937\n",
      "Epoch 58/100\n",
      "40/40 [==============================] - 0s 1ms/step - loss: 1.0136 - val_loss: 0.9876\n",
      "Epoch 59/100\n",
      "40/40 [==============================] - 0s 1ms/step - loss: 1.0075 - val_loss: 0.9858\n",
      "Epoch 60/100\n",
      "40/40 [==============================] - 0s 1ms/step - loss: 1.0034 - val_loss: 0.9782\n",
      "Epoch 61/100\n",
      "40/40 [==============================] - 0s 988us/step - loss: 0.9996 - val_loss: 0.9743\n",
      "Epoch 62/100\n",
      "40/40 [==============================] - 0s 990us/step - loss: 0.9951 - val_loss: 0.9711\n",
      "Epoch 63/100\n",
      "40/40 [==============================] - 0s 1ms/step - loss: 0.9909 - val_loss: 0.9698\n",
      "Epoch 64/100\n",
      "40/40 [==============================] - 0s 1ms/step - loss: 0.9890 - val_loss: 0.9662\n",
      "Epoch 65/100\n",
      "40/40 [==============================] - 0s 1ms/step - loss: 0.9851 - val_loss: 0.9644\n",
      "Epoch 66/100\n",
      "40/40 [==============================] - 0s 1ms/step - loss: 0.9835 - val_loss: 0.9606\n",
      "Epoch 67/100\n",
      "40/40 [==============================] - 0s 1ms/step - loss: 0.9809 - val_loss: 0.9597\n",
      "Epoch 68/100\n",
      "40/40 [==============================] - 0s 1ms/step - loss: 0.9784 - val_loss: 0.9577\n",
      "Epoch 69/100\n",
      "40/40 [==============================] - 0s 1ms/step - loss: 0.9762 - val_loss: 0.9577\n",
      "Epoch 70/100\n",
      "40/40 [==============================] - 0s 1ms/step - loss: 0.9735 - val_loss: 0.9548\n",
      "Epoch 71/100\n",
      "40/40 [==============================] - 0s 1ms/step - loss: 0.9728 - val_loss: 0.9539\n",
      "Epoch 72/100\n",
      "40/40 [==============================] - 0s 1ms/step - loss: 0.9702 - val_loss: 0.9521\n",
      "Epoch 73/100\n",
      "40/40 [==============================] - 0s 1ms/step - loss: 0.9692 - val_loss: 0.9504\n",
      "Epoch 74/100\n",
      "40/40 [==============================] - 0s 1ms/step - loss: 0.9671 - val_loss: 0.9523\n",
      "Epoch 75/100\n",
      "40/40 [==============================] - 0s 1ms/step - loss: 0.9661 - val_loss: 0.9495\n",
      "Epoch 76/100\n",
      "40/40 [==============================] - 0s 991us/step - loss: 0.9654 - val_loss: 0.9486\n",
      "Epoch 77/100\n",
      "40/40 [==============================] - 0s 1ms/step - loss: 0.9636 - val_loss: 0.9466\n",
      "Epoch 78/100\n",
      "40/40 [==============================] - 0s 1ms/step - loss: 0.9621 - val_loss: 0.9470\n",
      "Epoch 79/100\n",
      "40/40 [==============================] - 0s 962us/step - loss: 0.9611 - val_loss: 0.9449\n",
      "Epoch 80/100\n",
      "40/40 [==============================] - 0s 1ms/step - loss: 0.9599 - val_loss: 0.9452\n",
      "Epoch 81/100\n",
      "40/40 [==============================] - 0s 1ms/step - loss: 0.9583 - val_loss: 0.9450\n",
      "Epoch 82/100\n"
     ]
    },
    {
     "name": "stdout",
     "output_type": "stream",
     "text": [
      "40/40 [==============================] - 0s 1ms/step - loss: 0.9581 - val_loss: 0.9453\n",
      "Epoch 83/100\n",
      "40/40 [==============================] - 0s 1ms/step - loss: 0.9566 - val_loss: 0.9437\n",
      "Epoch 84/100\n",
      "40/40 [==============================] - 0s 1ms/step - loss: 0.9557 - val_loss: 0.9429\n",
      "Epoch 85/100\n",
      "40/40 [==============================] - 0s 1ms/step - loss: 0.9545 - val_loss: 0.9414\n",
      "Epoch 86/100\n",
      "40/40 [==============================] - 0s 1ms/step - loss: 0.9537 - val_loss: 0.9402\n",
      "Epoch 87/100\n",
      "40/40 [==============================] - 0s 2ms/step - loss: 0.9526 - val_loss: 0.9413\n",
      "Epoch 88/100\n",
      "40/40 [==============================] - 0s 1ms/step - loss: 0.9519 - val_loss: 0.9392\n",
      "Epoch 89/100\n",
      "40/40 [==============================] - 0s 1ms/step - loss: 0.9507 - val_loss: 0.9390\n",
      "Epoch 90/100\n",
      "40/40 [==============================] - 0s 1ms/step - loss: 0.9499 - val_loss: 0.9418\n",
      "Epoch 91/100\n",
      "40/40 [==============================] - 0s 1ms/step - loss: 0.9491 - val_loss: 0.9373\n",
      "Epoch 92/100\n",
      "40/40 [==============================] - 0s 1ms/step - loss: 0.9483 - val_loss: 0.9393\n",
      "Epoch 93/100\n",
      "40/40 [==============================] - 0s 2ms/step - loss: 0.9476 - val_loss: 0.9359\n",
      "Epoch 94/100\n",
      "40/40 [==============================] - 0s 1ms/step - loss: 0.9463 - val_loss: 0.9379\n",
      "Epoch 95/100\n",
      "40/40 [==============================] - 0s 2ms/step - loss: 0.9460 - val_loss: 0.9366\n",
      "Epoch 96/100\n",
      "40/40 [==============================] - 0s 1ms/step - loss: 0.9448 - val_loss: 0.9382\n",
      "Epoch 97/100\n",
      "40/40 [==============================] - 0s 1ms/step - loss: 0.9440 - val_loss: 0.9362\n",
      "Epoch 98/100\n",
      "40/40 [==============================] - 0s 1ms/step - loss: 0.9438 - val_loss: 0.9365\n",
      "Epoch 99/100\n",
      "40/40 [==============================] - 0s 1ms/step - loss: 0.9422 - val_loss: 0.9364\n",
      "Epoch 100/100\n",
      "40/40 [==============================] - 0s 1ms/step - loss: 0.9424 - val_loss: 0.9326\n",
      "7/7 [==============================] - 0s 833us/step - loss: 0.9326\n",
      "Epoch 1/100\n",
      "40/40 [==============================] - 0s 3ms/step - loss: 30.5799 - val_loss: 29.5746\n",
      "Epoch 2/100\n",
      "40/40 [==============================] - 0s 1ms/step - loss: 28.6472 - val_loss: 26.9975\n",
      "Epoch 3/100\n",
      "40/40 [==============================] - 0s 1ms/step - loss: 24.5656 - val_loss: 20.7867\n",
      "Epoch 4/100\n",
      "40/40 [==============================] - 0s 1ms/step - loss: 15.9353 - val_loss: 11.0422\n",
      "Epoch 5/100\n",
      "40/40 [==============================] - 0s 1ms/step - loss: 8.6460 - val_loss: 7.1190\n",
      "Epoch 6/100\n",
      "40/40 [==============================] - 0s 1ms/step - loss: 6.5291 - val_loss: 6.1843\n",
      "Epoch 7/100\n",
      "40/40 [==============================] - 0s 1ms/step - loss: 6.0087 - val_loss: 5.9235\n",
      "Epoch 8/100\n",
      "40/40 [==============================] - 0s 1ms/step - loss: 5.8422 - val_loss: 5.8109\n",
      "Epoch 9/100\n",
      "40/40 [==============================] - 0s 1ms/step - loss: 5.7567 - val_loss: 5.7302\n",
      "Epoch 10/100\n",
      "40/40 [==============================] - 0s 1ms/step - loss: 5.6824 - val_loss: 5.6567\n",
      "Epoch 11/100\n",
      "40/40 [==============================] - 0s 1ms/step - loss: 5.6110 - val_loss: 5.5792\n",
      "Epoch 12/100\n",
      "40/40 [==============================] - 0s 1ms/step - loss: 5.5333 - val_loss: 5.4970\n",
      "Epoch 13/100\n",
      "40/40 [==============================] - 0s 1ms/step - loss: 5.4468 - val_loss: 5.4059\n",
      "Epoch 14/100\n",
      "40/40 [==============================] - 0s 1ms/step - loss: 5.3524 - val_loss: 5.3047\n",
      "Epoch 15/100\n",
      "40/40 [==============================] - 0s 1ms/step - loss: 5.2472 - val_loss: 5.1905\n",
      "Epoch 16/100\n",
      "40/40 [==============================] - 0s 1ms/step - loss: 5.1294 - val_loss: 5.0634\n",
      "Epoch 17/100\n",
      "40/40 [==============================] - 0s 976us/step - loss: 4.9954 - val_loss: 4.9228\n",
      "Epoch 18/100\n",
      "40/40 [==============================] - 0s 991us/step - loss: 4.8471 - val_loss: 4.7653\n",
      "Epoch 19/100\n",
      "40/40 [==============================] - 0s 984us/step - loss: 4.6867 - val_loss: 4.5928\n",
      "Epoch 20/100\n",
      "40/40 [==============================] - 0s 1ms/step - loss: 4.5033 - val_loss: 4.4023\n",
      "Epoch 21/100\n",
      "40/40 [==============================] - 0s 954us/step - loss: 4.3078 - val_loss: 4.1958\n",
      "Epoch 22/100\n",
      "40/40 [==============================] - 0s 974us/step - loss: 4.0975 - val_loss: 3.9747\n",
      "Epoch 23/100\n",
      "40/40 [==============================] - 0s 992us/step - loss: 3.8730 - val_loss: 3.7451\n",
      "Epoch 24/100\n",
      "40/40 [==============================] - 0s 991us/step - loss: 3.6396 - val_loss: 3.5075\n",
      "Epoch 25/100\n",
      "40/40 [==============================] - 0s 915us/step - loss: 3.4060 - val_loss: 3.2711\n",
      "Epoch 26/100\n",
      "40/40 [==============================] - 0s 1ms/step - loss: 3.1745 - val_loss: 3.0395\n",
      "Epoch 27/100\n",
      "40/40 [==============================] - 0s 979us/step - loss: 2.9509 - val_loss: 2.8201\n",
      "Epoch 28/100\n",
      "40/40 [==============================] - 0s 1ms/step - loss: 2.7408 - val_loss: 2.6139\n",
      "Epoch 29/100\n",
      "40/40 [==============================] - 0s 956us/step - loss: 2.5454 - val_loss: 2.4324\n",
      "Epoch 30/100\n",
      "40/40 [==============================] - 0s 935us/step - loss: 2.3725 - val_loss: 2.2587\n",
      "Epoch 31/100\n",
      "40/40 [==============================] - 0s 968us/step - loss: 2.2129 - val_loss: 2.1062\n",
      "Epoch 32/100\n",
      "40/40 [==============================] - 0s 917us/step - loss: 2.0699 - val_loss: 1.9687\n",
      "Epoch 33/100\n",
      "40/40 [==============================] - 0s 1ms/step - loss: 1.9422 - val_loss: 1.8443\n",
      "Epoch 34/100\n",
      "40/40 [==============================] - 0s 975us/step - loss: 1.8274 - val_loss: 1.7300\n",
      "Epoch 35/100\n",
      "40/40 [==============================] - 0s 1ms/step - loss: 1.7235 - val_loss: 1.6307\n",
      "Epoch 36/100\n",
      "40/40 [==============================] - 0s 991us/step - loss: 1.6320 - val_loss: 1.5444\n",
      "Epoch 37/100\n",
      "40/40 [==============================] - 0s 1ms/step - loss: 1.5496 - val_loss: 1.4617\n",
      "Epoch 38/100\n",
      "40/40 [==============================] - 0s 1ms/step - loss: 1.4757 - val_loss: 1.3913\n",
      "Epoch 39/100\n",
      "40/40 [==============================] - 0s 1ms/step - loss: 1.4113 - val_loss: 1.3273\n",
      "Epoch 40/100\n",
      "40/40 [==============================] - 0s 1ms/step - loss: 1.3534 - val_loss: 1.2689\n",
      "Epoch 41/100\n",
      "40/40 [==============================] - 0s 954us/step - loss: 1.3020 - val_loss: 1.2202\n",
      "Epoch 42/100\n",
      "40/40 [==============================] - 0s 991us/step - loss: 1.2569 - val_loss: 1.1781\n",
      "Epoch 43/100\n",
      "40/40 [==============================] - 0s 969us/step - loss: 1.2170 - val_loss: 1.1419\n",
      "Epoch 44/100\n",
      "40/40 [==============================] - 0s 915us/step - loss: 1.1819 - val_loss: 1.1072\n",
      "Epoch 45/100\n",
      "40/40 [==============================] - 0s 964us/step - loss: 1.1513 - val_loss: 1.0783\n",
      "Epoch 46/100\n",
      "40/40 [==============================] - 0s 898us/step - loss: 1.1239 - val_loss: 1.0543\n",
      "Epoch 47/100\n",
      "40/40 [==============================] - 0s 901us/step - loss: 1.1005 - val_loss: 1.0303\n",
      "Epoch 48/100\n",
      "40/40 [==============================] - 0s 910us/step - loss: 1.0785 - val_loss: 1.0058\n",
      "Epoch 49/100\n",
      "40/40 [==============================] - 0s 920us/step - loss: 1.0611 - val_loss: 0.9925\n",
      "Epoch 50/100\n",
      "40/40 [==============================] - 0s 907us/step - loss: 1.0445 - val_loss: 0.9794\n",
      "Epoch 51/100\n",
      "40/40 [==============================] - 0s 1ms/step - loss: 1.0297 - val_loss: 0.9651\n",
      "Epoch 52/100\n",
      "40/40 [==============================] - 0s 925us/step - loss: 1.0166 - val_loss: 0.9494\n",
      "Epoch 53/100\n",
      "40/40 [==============================] - 0s 1ms/step - loss: 1.0055 - val_loss: 0.9403\n",
      "Epoch 54/100\n",
      "40/40 [==============================] - 0s 1ms/step - loss: 0.9955 - val_loss: 0.9318\n",
      "Epoch 55/100\n",
      "40/40 [==============================] - 0s 1ms/step - loss: 0.9862 - val_loss: 0.9271\n",
      "Epoch 56/100\n",
      "40/40 [==============================] - 0s 1ms/step - loss: 0.9778 - val_loss: 0.9138\n",
      "Epoch 57/100\n",
      "40/40 [==============================] - 0s 970us/step - loss: 0.9708 - val_loss: 0.9115\n",
      "Epoch 58/100\n",
      "40/40 [==============================] - 0s 944us/step - loss: 0.9649 - val_loss: 0.9048\n",
      "Epoch 59/100\n",
      "40/40 [==============================] - 0s 995us/step - loss: 0.9589 - val_loss: 0.8988\n",
      "Epoch 60/100\n",
      "40/40 [==============================] - 0s 1ms/step - loss: 0.9544 - val_loss: 0.8993\n",
      "Epoch 61/100\n",
      "40/40 [==============================] - 0s 965us/step - loss: 0.9490 - val_loss: 0.8950\n",
      "Epoch 62/100\n",
      "40/40 [==============================] - 0s 879us/step - loss: 0.9447 - val_loss: 0.8868\n"
     ]
    },
    {
     "name": "stdout",
     "output_type": "stream",
     "text": [
      "Epoch 63/100\n",
      "40/40 [==============================] - 0s 1ms/step - loss: 0.9410 - val_loss: 0.8853\n",
      "Epoch 64/100\n",
      "40/40 [==============================] - 0s 991us/step - loss: 0.9378 - val_loss: 0.8819\n",
      "Epoch 65/100\n",
      "40/40 [==============================] - 0s 914us/step - loss: 0.9348 - val_loss: 0.8785\n",
      "Epoch 66/100\n",
      "40/40 [==============================] - 0s 945us/step - loss: 0.9307 - val_loss: 0.8725\n",
      "Epoch 67/100\n",
      "40/40 [==============================] - 0s 1ms/step - loss: 0.9293 - val_loss: 0.8754\n",
      "Epoch 68/100\n",
      "40/40 [==============================] - 0s 975us/step - loss: 0.9261 - val_loss: 0.8751\n",
      "Epoch 69/100\n",
      "40/40 [==============================] - 0s 894us/step - loss: 0.9244 - val_loss: 0.8685\n",
      "Epoch 70/100\n",
      "40/40 [==============================] - 0s 924us/step - loss: 0.9224 - val_loss: 0.8692\n",
      "Epoch 71/100\n",
      "40/40 [==============================] - 0s 924us/step - loss: 0.9202 - val_loss: 0.8713\n",
      "Epoch 72/100\n",
      "40/40 [==============================] - 0s 928us/step - loss: 0.9192 - val_loss: 0.8697\n",
      "Epoch 73/100\n",
      "40/40 [==============================] - 0s 997us/step - loss: 0.9172 - val_loss: 0.8641\n",
      "Epoch 74/100\n",
      "40/40 [==============================] - 0s 964us/step - loss: 0.9152 - val_loss: 0.8652\n",
      "Epoch 75/100\n",
      "40/40 [==============================] - 0s 924us/step - loss: 0.9140 - val_loss: 0.8626\n",
      "Epoch 76/100\n",
      "40/40 [==============================] - 0s 807us/step - loss: 0.9128 - val_loss: 0.8636\n",
      "Epoch 77/100\n",
      "40/40 [==============================] - 0s 939us/step - loss: 0.9116 - val_loss: 0.8628\n",
      "Epoch 78/100\n",
      "40/40 [==============================] - 0s 942us/step - loss: 0.9100 - val_loss: 0.8608\n",
      "Epoch 79/100\n",
      "40/40 [==============================] - 0s 903us/step - loss: 0.9093 - val_loss: 0.8584\n",
      "Epoch 80/100\n",
      "40/40 [==============================] - 0s 942us/step - loss: 0.9083 - val_loss: 0.8570\n",
      "Epoch 81/100\n",
      "40/40 [==============================] - 0s 867us/step - loss: 0.9067 - val_loss: 0.8575\n",
      "Epoch 82/100\n",
      "40/40 [==============================] - 0s 914us/step - loss: 0.9058 - val_loss: 0.8572\n",
      "Epoch 83/100\n",
      "40/40 [==============================] - 0s 848us/step - loss: 0.9051 - val_loss: 0.8583\n",
      "Epoch 84/100\n",
      "40/40 [==============================] - 0s 932us/step - loss: 0.9035 - val_loss: 0.8623\n",
      "Epoch 85/100\n",
      "40/40 [==============================] - 0s 890us/step - loss: 0.9036 - val_loss: 0.8561\n",
      "Epoch 86/100\n",
      "40/40 [==============================] - 0s 913us/step - loss: 0.9025 - val_loss: 0.8541\n",
      "Epoch 87/100\n",
      "40/40 [==============================] - 0s 877us/step - loss: 0.9009 - val_loss: 0.8550\n",
      "Epoch 88/100\n",
      "40/40 [==============================] - 0s 900us/step - loss: 0.9004 - val_loss: 0.8546\n",
      "Epoch 89/100\n",
      "40/40 [==============================] - 0s 900us/step - loss: 0.8999 - val_loss: 0.8525\n",
      "Epoch 90/100\n",
      "40/40 [==============================] - 0s 898us/step - loss: 0.8984 - val_loss: 0.8568\n",
      "Epoch 91/100\n",
      "40/40 [==============================] - 0s 922us/step - loss: 0.8977 - val_loss: 0.8552\n",
      "Epoch 92/100\n",
      "40/40 [==============================] - 0s 931us/step - loss: 0.8979 - val_loss: 0.8520\n",
      "Epoch 93/100\n",
      "40/40 [==============================] - 0s 1ms/step - loss: 0.8967 - val_loss: 0.8540\n",
      "Epoch 94/100\n",
      "40/40 [==============================] - 0s 975us/step - loss: 0.8960 - val_loss: 0.8515\n",
      "Epoch 95/100\n",
      "40/40 [==============================] - 0s 1ms/step - loss: 0.8953 - val_loss: 0.8493\n",
      "Epoch 96/100\n",
      "40/40 [==============================] - 0s 975us/step - loss: 0.8945 - val_loss: 0.8509\n",
      "Epoch 97/100\n",
      "40/40 [==============================] - 0s 1ms/step - loss: 0.8945 - val_loss: 0.8494\n",
      "Epoch 98/100\n",
      "40/40 [==============================] - 0s 1ms/step - loss: 0.8931 - val_loss: 0.8478\n",
      "Epoch 99/100\n",
      "40/40 [==============================] - 0s 1ms/step - loss: 0.8929 - val_loss: 0.8502\n",
      "Epoch 100/100\n",
      "40/40 [==============================] - 0s 904us/step - loss: 0.8922 - val_loss: 0.8487\n",
      "7/7 [==============================] - 0s 689us/step - loss: 0.8487\n",
      "Epoch 1/100\n",
      "40/40 [==============================] - 0s 2ms/step - loss: 30.1681 - val_loss: 29.4877\n",
      "Epoch 2/100\n",
      "40/40 [==============================] - 0s 821us/step - loss: 27.7363 - val_loss: 25.8734\n",
      "Epoch 3/100\n",
      "40/40 [==============================] - 0s 889us/step - loss: 21.7840 - val_loss: 16.8292\n",
      "Epoch 4/100\n",
      "40/40 [==============================] - 0s 842us/step - loss: 11.9147 - val_loss: 8.6483\n",
      "Epoch 5/100\n",
      "40/40 [==============================] - 0s 861us/step - loss: 7.1969 - val_loss: 6.6554\n",
      "Epoch 6/100\n",
      "40/40 [==============================] - 0s 890us/step - loss: 6.1094 - val_loss: 6.1288\n",
      "Epoch 7/100\n",
      "40/40 [==============================] - 0s 926us/step - loss: 5.7619 - val_loss: 5.9080\n",
      "Epoch 8/100\n",
      "40/40 [==============================] - 0s 812us/step - loss: 5.5861 - val_loss: 5.7669\n",
      "Epoch 9/100\n",
      "40/40 [==============================] - 0s 919us/step - loss: 5.4643 - val_loss: 5.6597\n",
      "Epoch 10/100\n",
      "40/40 [==============================] - 0s 822us/step - loss: 5.3605 - val_loss: 5.5542\n",
      "Epoch 11/100\n",
      "40/40 [==============================] - 0s 845us/step - loss: 5.2596 - val_loss: 5.4475\n",
      "Epoch 12/100\n",
      "40/40 [==============================] - 0s 819us/step - loss: 5.1445 - val_loss: 5.3227\n",
      "Epoch 13/100\n",
      "40/40 [==============================] - 0s 869us/step - loss: 5.0165 - val_loss: 5.1920\n",
      "Epoch 14/100\n",
      "40/40 [==============================] - 0s 814us/step - loss: 4.8836 - val_loss: 5.0492\n",
      "Epoch 15/100\n",
      "40/40 [==============================] - 0s 851us/step - loss: 4.7321 - val_loss: 4.8784\n",
      "Epoch 16/100\n",
      "40/40 [==============================] - 0s 934us/step - loss: 4.5578 - val_loss: 4.6998\n",
      "Epoch 17/100\n",
      "40/40 [==============================] - 0s 922us/step - loss: 4.3742 - val_loss: 4.4997\n",
      "Epoch 18/100\n",
      "40/40 [==============================] - 0s 950us/step - loss: 4.1797 - val_loss: 4.2945\n",
      "Epoch 19/100\n",
      "40/40 [==============================] - 0s 1ms/step - loss: 3.9711 - val_loss: 4.0662\n",
      "Epoch 20/100\n",
      "40/40 [==============================] - 0s 951us/step - loss: 3.7574 - val_loss: 3.8385\n",
      "Epoch 21/100\n",
      "40/40 [==============================] - 0s 984us/step - loss: 3.5389 - val_loss: 3.6097\n",
      "Epoch 22/100\n",
      "40/40 [==============================] - 0s 937us/step - loss: 3.3228 - val_loss: 3.3867\n",
      "Epoch 23/100\n",
      "40/40 [==============================] - 0s 968us/step - loss: 3.1129 - val_loss: 3.1718\n",
      "Epoch 24/100\n",
      "40/40 [==============================] - 0s 914us/step - loss: 2.9141 - val_loss: 2.9680\n",
      "Epoch 25/100\n",
      "40/40 [==============================] - 0s 956us/step - loss: 2.7310 - val_loss: 2.7817\n",
      "Epoch 26/100\n",
      "40/40 [==============================] - 0s 946us/step - loss: 2.5618 - val_loss: 2.6088\n",
      "Epoch 27/100\n",
      "40/40 [==============================] - 0s 1ms/step - loss: 2.4077 - val_loss: 2.4510\n",
      "Epoch 28/100\n",
      "40/40 [==============================] - 0s 1ms/step - loss: 2.2686 - val_loss: 2.3089\n",
      "Epoch 29/100\n",
      "40/40 [==============================] - 0s 992us/step - loss: 2.1414 - val_loss: 2.1778\n",
      "Epoch 30/100\n",
      "40/40 [==============================] - 0s 1ms/step - loss: 2.0244 - val_loss: 2.0602\n",
      "Epoch 31/100\n",
      "40/40 [==============================] - 0s 1ms/step - loss: 1.9186 - val_loss: 1.9504\n",
      "Epoch 32/100\n",
      "40/40 [==============================] - 0s 955us/step - loss: 1.8199 - val_loss: 1.8465\n",
      "Epoch 33/100\n",
      "40/40 [==============================] - 0s 992us/step - loss: 1.7270 - val_loss: 1.7509\n",
      "Epoch 34/100\n",
      "40/40 [==============================] - 0s 959us/step - loss: 1.6418 - val_loss: 1.6657\n",
      "Epoch 35/100\n",
      "40/40 [==============================] - 0s 990us/step - loss: 1.5635 - val_loss: 1.5845\n",
      "Epoch 36/100\n",
      "40/40 [==============================] - 0s 945us/step - loss: 1.4909 - val_loss: 1.5099\n",
      "Epoch 37/100\n",
      "40/40 [==============================] - 0s 972us/step - loss: 1.4244 - val_loss: 1.4440\n",
      "Epoch 38/100\n",
      "40/40 [==============================] - 0s 1ms/step - loss: 1.3644 - val_loss: 1.3813\n",
      "Epoch 39/100\n",
      "40/40 [==============================] - 0s 938us/step - loss: 1.3103 - val_loss: 1.3261\n",
      "Epoch 40/100\n",
      "40/40 [==============================] - 0s 1ms/step - loss: 1.2616 - val_loss: 1.2785\n",
      "Epoch 41/100\n",
      "40/40 [==============================] - 0s 933us/step - loss: 1.2197 - val_loss: 1.2354\n",
      "Epoch 42/100\n",
      "40/40 [==============================] - 0s 957us/step - loss: 1.1818 - val_loss: 1.1963\n"
     ]
    },
    {
     "name": "stdout",
     "output_type": "stream",
     "text": [
      "Epoch 43/100\n",
      "40/40 [==============================] - 0s 988us/step - loss: 1.1495 - val_loss: 1.1645\n",
      "Epoch 44/100\n",
      "40/40 [==============================] - 0s 895us/step - loss: 1.1205 - val_loss: 1.1360\n",
      "Epoch 45/100\n",
      "40/40 [==============================] - 0s 984us/step - loss: 1.0962 - val_loss: 1.1099\n",
      "Epoch 46/100\n",
      "40/40 [==============================] - 0s 960us/step - loss: 1.0746 - val_loss: 1.0892\n",
      "Epoch 47/100\n",
      "40/40 [==============================] - 0s 971us/step - loss: 1.0568 - val_loss: 1.0701\n",
      "Epoch 48/100\n",
      "40/40 [==============================] - 0s 966us/step - loss: 1.0396 - val_loss: 1.0536\n",
      "Epoch 49/100\n",
      "40/40 [==============================] - 0s 867us/step - loss: 1.0260 - val_loss: 1.0388\n",
      "Epoch 50/100\n",
      "40/40 [==============================] - 0s 917us/step - loss: 1.0145 - val_loss: 1.0265\n",
      "Epoch 51/100\n",
      "40/40 [==============================] - 0s 890us/step - loss: 1.0028 - val_loss: 1.0202\n",
      "Epoch 52/100\n",
      "40/40 [==============================] - 0s 991us/step - loss: 0.9952 - val_loss: 1.0066\n",
      "Epoch 53/100\n",
      "40/40 [==============================] - 0s 967us/step - loss: 0.9870 - val_loss: 0.9985\n",
      "Epoch 54/100\n",
      "40/40 [==============================] - 0s 992us/step - loss: 0.9798 - val_loss: 0.9906\n",
      "Epoch 55/100\n",
      "40/40 [==============================] - 0s 874us/step - loss: 0.9735 - val_loss: 0.9865\n",
      "Epoch 56/100\n",
      "40/40 [==============================] - 0s 942us/step - loss: 0.9683 - val_loss: 0.9797\n",
      "Epoch 57/100\n",
      "40/40 [==============================] - 0s 914us/step - loss: 0.9633 - val_loss: 0.9740\n",
      "Epoch 58/100\n",
      "40/40 [==============================] - 0s 877us/step - loss: 0.9592 - val_loss: 0.9709\n",
      "Epoch 59/100\n",
      "40/40 [==============================] - 0s 908us/step - loss: 0.9556 - val_loss: 0.9663\n",
      "Epoch 60/100\n",
      "40/40 [==============================] - 0s 902us/step - loss: 0.9521 - val_loss: 0.9632\n",
      "Epoch 61/100\n",
      "40/40 [==============================] - 0s 929us/step - loss: 0.9485 - val_loss: 0.9588\n",
      "Epoch 62/100\n",
      "40/40 [==============================] - 0s 972us/step - loss: 0.9454 - val_loss: 0.9578\n",
      "Epoch 63/100\n",
      "40/40 [==============================] - 0s 898us/step - loss: 0.9431 - val_loss: 0.9517\n",
      "Epoch 64/100\n",
      "40/40 [==============================] - 0s 954us/step - loss: 0.9412 - val_loss: 0.9499\n",
      "Epoch 65/100\n",
      "40/40 [==============================] - 0s 975us/step - loss: 0.9386 - val_loss: 0.9484\n",
      "Epoch 66/100\n",
      "40/40 [==============================] - 0s 916us/step - loss: 0.9373 - val_loss: 0.9457\n",
      "Epoch 67/100\n",
      "40/40 [==============================] - 0s 966us/step - loss: 0.9350 - val_loss: 0.9457\n",
      "Epoch 68/100\n",
      "40/40 [==============================] - 0s 949us/step - loss: 0.9327 - val_loss: 0.9419\n",
      "Epoch 69/100\n",
      "40/40 [==============================] - 0s 931us/step - loss: 0.9317 - val_loss: 0.9398\n",
      "Epoch 70/100\n",
      "40/40 [==============================] - 0s 892us/step - loss: 0.9302 - val_loss: 0.9395\n",
      "Epoch 71/100\n",
      "40/40 [==============================] - 0s 835us/step - loss: 0.9280 - val_loss: 0.9387\n",
      "Epoch 72/100\n",
      "40/40 [==============================] - 0s 893us/step - loss: 0.9265 - val_loss: 0.9377\n",
      "Epoch 73/100\n",
      "40/40 [==============================] - 0s 991us/step - loss: 0.9261 - val_loss: 0.9359\n",
      "Epoch 74/100\n",
      "40/40 [==============================] - 0s 968us/step - loss: 0.9251 - val_loss: 0.9337\n",
      "Epoch 75/100\n",
      "40/40 [==============================] - 0s 961us/step - loss: 0.9235 - val_loss: 0.9334\n",
      "Epoch 76/100\n",
      "40/40 [==============================] - 0s 1ms/step - loss: 0.9226 - val_loss: 0.9326\n",
      "Epoch 77/100\n",
      "40/40 [==============================] - 0s 981us/step - loss: 0.9216 - val_loss: 0.9294\n",
      "Epoch 78/100\n",
      "40/40 [==============================] - 0s 1ms/step - loss: 0.9205 - val_loss: 0.9303\n",
      "Epoch 79/100\n",
      "40/40 [==============================] - 0s 1ms/step - loss: 0.9193 - val_loss: 0.9298\n",
      "Epoch 80/100\n",
      "40/40 [==============================] - 0s 1ms/step - loss: 0.9183 - val_loss: 0.9271\n",
      "Epoch 81/100\n",
      "40/40 [==============================] - 0s 1ms/step - loss: 0.9173 - val_loss: 0.9259\n",
      "Epoch 82/100\n",
      "40/40 [==============================] - 0s 1ms/step - loss: 0.9167 - val_loss: 0.9272\n",
      "Epoch 83/100\n",
      "40/40 [==============================] - 0s 1ms/step - loss: 0.9160 - val_loss: 0.9242\n",
      "Epoch 84/100\n",
      "40/40 [==============================] - 0s 1ms/step - loss: 0.9151 - val_loss: 0.9234\n",
      "Epoch 85/100\n",
      "40/40 [==============================] - 0s 1ms/step - loss: 0.9138 - val_loss: 0.9237\n",
      "Epoch 86/100\n",
      "40/40 [==============================] - 0s 1ms/step - loss: 0.9137 - val_loss: 0.9226\n",
      "Epoch 87/100\n",
      "40/40 [==============================] - 0s 1ms/step - loss: 0.9127 - val_loss: 0.9233\n",
      "Epoch 88/100\n",
      "40/40 [==============================] - 0s 1ms/step - loss: 0.9114 - val_loss: 0.9203\n",
      "Epoch 89/100\n",
      "40/40 [==============================] - 0s 1ms/step - loss: 0.9109 - val_loss: 0.9216\n",
      "Epoch 90/100\n",
      "40/40 [==============================] - 0s 1ms/step - loss: 0.9108 - val_loss: 0.9177\n",
      "Epoch 91/100\n",
      "40/40 [==============================] - 0s 1ms/step - loss: 0.9094 - val_loss: 0.9174\n",
      "Epoch 92/100\n",
      "40/40 [==============================] - 0s 1ms/step - loss: 0.9094 - val_loss: 0.9170\n",
      "Epoch 93/100\n",
      "40/40 [==============================] - 0s 1ms/step - loss: 0.9082 - val_loss: 0.9173\n",
      "Epoch 94/100\n",
      "40/40 [==============================] - 0s 1ms/step - loss: 0.9073 - val_loss: 0.9160\n",
      "Epoch 95/100\n",
      "40/40 [==============================] - 0s 1ms/step - loss: 0.9064 - val_loss: 0.9177\n",
      "Epoch 96/100\n",
      "40/40 [==============================] - 0s 971us/step - loss: 0.9061 - val_loss: 0.9167\n",
      "Epoch 97/100\n",
      "40/40 [==============================] - 0s 991us/step - loss: 0.9053 - val_loss: 0.9141\n",
      "Epoch 98/100\n",
      "40/40 [==============================] - 0s 968us/step - loss: 0.9045 - val_loss: 0.9143\n",
      "Epoch 99/100\n",
      "40/40 [==============================] - 0s 991us/step - loss: 0.9039 - val_loss: 0.9143\n",
      "Epoch 100/100\n",
      "40/40 [==============================] - 0s 941us/step - loss: 0.9036 - val_loss: 0.9119\n",
      "7/7 [==============================] - 0s 710us/step - loss: 0.9119\n"
     ]
    }
   ],
   "source": [
    "from tensorflow.keras.optimizers import SGD\n",
    "from tensorflow.keras.optimizers import Adam\n",
    "from tensorflow.keras.optimizers import RMSprop\n",
    "MSEs= []\n",
    "learning_rate=0.001\n",
    "batch_size = 20\n",
    "epochs=100\n",
    "#Cluster1\n",
    "SGD_model_1.compile(loss='mean_squared_error',\n",
    "              optimizer=SGD(learning_rate))\n",
    "\n",
    "SGD_model_1.fit(x1_train, y1_train, batch_size=batch_size, epochs=epochs, validation_data=(x1_test, y1_test))\n",
    "MSE1 = SGD_model_1.evaluate(x1_test, y1_test)\n",
    "#Cluster2\n",
    "SGD_model_2.compile(loss='mean_squared_error',\n",
    "              optimizer=SGD(learning_rate))\n",
    "\n",
    "SGD_model_2.fit(x2_train, y2_train, batch_size=batch_size, epochs=epochs, validation_data=(x2_test, y2_test))\n",
    "MSE2 = SGD_model_2.evaluate(x2_test, y2_test)\n",
    "#Cluster3\n",
    "SGD_model_3.compile(loss='mean_squared_error',\n",
    "              optimizer=SGD(learning_rate))\n",
    "\n",
    "SGD_model_3.fit(x3_train, y3_train, batch_size=batch_size, epochs=epochs, validation_data=(x3_test, y3_test))\n",
    "MSE3 = SGD_model_3.evaluate(x3_test, y3_test)\n"
   ]
  },
  {
   "cell_type": "code",
   "execution_count": 37,
   "id": "61630298",
   "metadata": {},
   "outputs": [
    {
     "data": {
      "text/plain": [
       "[0.9325938820838928, 0.848671019077301, 0.9119476079940796]"
      ]
     },
     "execution_count": 37,
     "metadata": {},
     "output_type": "execute_result"
    }
   ],
   "source": [
    "MSEs.append(MSE1)\n",
    "MSEs.append(MSE2)\n",
    "MSEs.append(MSE3)\n",
    "MSEs"
   ]
  },
  {
   "cell_type": "code",
   "execution_count": 38,
   "id": "84ffe318",
   "metadata": {},
   "outputs": [],
   "source": [
    "#Cluster1\n",
    "u1 = SGD_model_1.predict(U1)\n",
    "u1 = boundary(u1)\n",
    "#Cluster2\n",
    "u2 = SGD_model_2.predict(U2)\n",
    "u2 = boundary(u2)\n",
    "#Cluster3\n",
    "u3 = SGD_model_3.predict(U3)\n",
    "u3 = boundary(u3)\n",
    "\n",
    "P1 = np.concatenate((U1_ID, u1), axis=1)\n",
    "P2 = np.concatenate((U2_ID, u2), axis=1)\n",
    "P3 = np.concatenate((U3_ID, u3), axis=1)"
   ]
  },
  {
   "cell_type": "code",
   "execution_count": 39,
   "id": "78c0c9a6",
   "metadata": {},
   "outputs": [
    {
     "data": {
      "text/plain": [
       "array([[117475,      8,      4, ...,      2,      3,     10],\n",
       "       [117509,      7,      4, ...,      4,      5,      7],\n",
       "       [117548,      1,      6, ...,      7,      3,      1],\n",
       "       ...,\n",
       "       [125614,      4,      6, ...,      7,      5,      8],\n",
       "       [125636,      1,      3, ...,      7,      2,      4],\n",
       "       [125645,      5,      1, ...,      1,      6,      0]])"
      ]
     },
     "execution_count": 39,
     "metadata": {},
     "output_type": "execute_result"
    }
   ],
   "source": [
    "final_1500_matrix_for_SGD =  np.concatenate((P1,P2,P3), axis=0)\n",
    "final_1500_matrix_for_SGD=final_1500_matrix_for_SGD.astype(int)\n",
    "final_1500_matrix_for_SGD"
   ]
  },
  {
   "cell_type": "code",
   "execution_count": 40,
   "id": "d15a26e9",
   "metadata": {},
   "outputs": [],
   "source": [
    "fields = ['USER ID', 'adrian crater', 'anagram mentor', 'apropos pizza', 'bandit anatomy', 'banjo ladder', 'barcode arnold', 'bazooka diagram', 'bronze mystic', 'calypso zigzag', 'casino unit', 'civil book', 'company polo', 'conan antenna', 'current pony', 'diploma moment', 'distant list', 'evita soviet', 'forum bravo', 'front salami', 'garden jimmy', 'helium exact', 'horizon norway', 'house vodka', 'image jessica', 'imagine disco', 'inch fragile', 'june monica', 'kayak analog', 'kitchen active', 'lobster diana', 'lotus sherman', 'meteor slalom', 'meter sigma', 'mexico stretch', 'motor modular', 'nina sailor', 'ninja history', 'optimal recycle', 'oregano option', 'oxford open', 'panic inside', 'pepper chicago', 'peru king', 'picnic locate', 'popcorn shannon', 'premium bread', 'process volume', 'risk corona', 'ritual product', 'sabine danube', 'saint desert', 'salsa impress', 'salute joshua', 'scale nepal', 'secret postage', 'sensor child', 'ship canal', 'spend oberon', 'stop tropic', 'story respect', 'strong plume', 'studio classic', 'sweet alert', 'swing martin', 'topic rover', 'tourist micro', 'tripod stand', 'update lola', 'ventura puzzle', 'viking llama', 'violet saga', 'vista queen', 'viva avalon', 'voodoo planet', 'wheel gibson']"
   ]
  },
  {
   "cell_type": "code",
   "execution_count": 41,
   "id": "d1986b95",
   "metadata": {},
   "outputs": [],
   "source": [
    "df = pd.DataFrame(final_1500_matrix_for_SGD, columns = fields)\n",
    "df.sort_values('USER ID')\n",
    "df.head()\n",
    "df.to_csv('SGD_prediction_1500.csv',index=False)"
   ]
  },
  {
   "cell_type": "code",
   "execution_count": 42,
   "id": "2db8a447",
   "metadata": {},
   "outputs": [],
   "source": [
    "df2 = pd.read_csv(\"3000_prediction.csv\")\n",
    "frames = [df2, df]\n",
    "result = pd.concat(frames)\n",
    "result.sort_values('USER ID')\n",
    "result.to_csv('SGD_prediction_4500.csv',index=False)"
   ]
  },
  {
   "cell_type": "markdown",
   "id": "73c260af",
   "metadata": {},
   "source": [
    "# Adam with l2 Regulizers"
   ]
  },
  {
   "cell_type": "code",
   "execution_count": 43,
   "id": "37c805f3",
   "metadata": {},
   "outputs": [],
   "source": [
    "import numpy as np\n",
    "from sklearn import linear_model\n",
    "#Cluster1\n",
    "x1_train = C1[0:800]\n",
    "y1_train = C1_label[0:800]\n",
    "x1_test = C1[800:]\n",
    "y1_test = C1_label[800:]\n",
    "#Cluster2\n",
    "x2_train = C2[0:800]\n",
    "y2_train = C2_label[0:800]\n",
    "x2_test = C2[800:]\n",
    "y2_test = C2_label[800:]\n",
    "#Cluster2\n",
    "x3_train = C3[0:800]\n",
    "y3_train = C3_label[0:800]\n",
    "x3_test = C3[800:]\n",
    "y3_test = C3_label[800:]"
   ]
  },
  {
   "cell_type": "code",
   "execution_count": 44,
   "id": "d3dd4fcf",
   "metadata": {},
   "outputs": [],
   "source": [
    "from keras.models import Sequential\n",
    "from keras.layers import Flatten, Dense\n",
    "from tensorflow.keras.regularizers import l2\n",
    "#Cluster1\n",
    "Adam_regulized_model_1 = Sequential()\n",
    "Adam_regulized_model_1.add(Dense(90, activation='relu',\n",
    "                 input_shape=(100,),kernel_regularizer=l2(0.01)))\n",
    "Adam_regulized_model_1.add(Dense(80, activation='relu',kernel_regularizer=l2(0.01)))\n",
    "Adam_regulized_model_1.add(Dense(75,kernel_regularizer=l2(0.01)))\n",
    "#Cluster2\n",
    "Adam_regulized_model_2 = Sequential()\n",
    "Adam_regulized_model_2.add(Dense(90, activation='relu',\n",
    "                 input_shape=(100,),kernel_regularizer=l2(0.01)))\n",
    "Adam_regulized_model_2.add(Dense(80, activation='relu',kernel_regularizer=l2(0.01)))\n",
    "Adam_regulized_model_2.add(Dense(75,kernel_regularizer=l2(0.01)))\n",
    "#Cluster3\n",
    "Adam_regulized_model_3 = Sequential()\n",
    "Adam_regulized_model_3.add(Dense(90, activation='relu',\n",
    "                 input_shape=(100,),kernel_regularizer=l2(0.01)))\n",
    "Adam_regulized_model_3.add(Dense(80, activation='relu',kernel_regularizer=l2(0.01)))\n",
    "Adam_regulized_model_3.add(Dense(75,kernel_regularizer=l2(0.01)))\n",
    "\n"
   ]
  },
  {
   "cell_type": "code",
   "execution_count": null,
   "id": "34362db5",
   "metadata": {},
   "outputs": [
    {
     "name": "stdout",
     "output_type": "stream",
     "text": [
      "Epoch 1/100\n",
      "40/40 [==============================] - 0s 2ms/step - loss: 19.9742 - val_loss: 7.8731\n",
      "Epoch 2/100\n",
      "40/40 [==============================] - 0s 902us/step - loss: 5.7161 - val_loss: 3.8754\n",
      "Epoch 3/100\n",
      "40/40 [==============================] - 0s 968us/step - loss: 3.2517 - val_loss: 2.9273\n",
      "Epoch 4/100\n",
      "40/40 [==============================] - 0s 966us/step - loss: 2.8390 - val_loss: 2.7196\n",
      "Epoch 5/100\n",
      "40/40 [==============================] - 0s 891us/step - loss: 2.6688 - val_loss: 2.5585\n",
      "Epoch 6/100\n",
      "40/40 [==============================] - 0s 914us/step - loss: 2.5092 - val_loss: 2.4423\n",
      "Epoch 7/100\n",
      "40/40 [==============================] - 0s 892us/step - loss: 2.3820 - val_loss: 2.3219\n",
      "Epoch 8/100\n",
      "40/40 [==============================] - 0s 877us/step - loss: 2.2847 - val_loss: 2.2391\n",
      "Epoch 9/100\n",
      "40/40 [==============================] - 0s 912us/step - loss: 2.1834 - val_loss: 2.1388\n",
      "Epoch 10/100\n",
      "40/40 [==============================] - 0s 904us/step - loss: 2.1076 - val_loss: 2.0705\n",
      "Epoch 11/100\n",
      "40/40 [==============================] - 0s 989us/step - loss: 2.0300 - val_loss: 2.0123\n",
      "Epoch 12/100\n",
      "40/40 [==============================] - 0s 967us/step - loss: 1.9756 - val_loss: 1.9525\n",
      "Epoch 13/100\n",
      "40/40 [==============================] - 0s 908us/step - loss: 1.8978 - val_loss: 1.9058\n",
      "Epoch 14/100\n",
      "40/40 [==============================] - 0s 877us/step - loss: 1.8561 - val_loss: 1.8784\n",
      "Epoch 15/100\n",
      "40/40 [==============================] - 0s 951us/step - loss: 1.8062 - val_loss: 1.8447\n",
      "Epoch 16/100\n",
      "40/40 [==============================] - 0s 990us/step - loss: 1.7629 - val_loss: 1.7632\n",
      "Epoch 17/100\n",
      "40/40 [==============================] - 0s 1ms/step - loss: 1.7093 - val_loss: 1.7224\n",
      "Epoch 18/100\n",
      "40/40 [==============================] - 0s 941us/step - loss: 1.6696 - val_loss: 1.6575\n",
      "Epoch 19/100\n",
      "40/40 [==============================] - 0s 993us/step - loss: 1.6425 - val_loss: 1.6427\n",
      "Epoch 20/100\n",
      "40/40 [==============================] - 0s 891us/step - loss: 1.6025 - val_loss: 1.6041\n",
      "Epoch 21/100\n",
      "40/40 [==============================] - 0s 988us/step - loss: 1.5781 - val_loss: 1.5900\n",
      "Epoch 22/100\n",
      "40/40 [==============================] - 0s 992us/step - loss: 1.5448 - val_loss: 1.5608\n",
      "Epoch 23/100\n",
      "40/40 [==============================] - 0s 968us/step - loss: 1.5255 - val_loss: 1.5191\n",
      "Epoch 24/100\n",
      "40/40 [==============================] - 0s 993us/step - loss: 1.4851 - val_loss: 1.5080\n",
      "Epoch 25/100\n",
      "40/40 [==============================] - 0s 1ms/step - loss: 1.4677 - val_loss: 1.4648\n",
      "Epoch 26/100\n",
      "40/40 [==============================] - 0s 1ms/step - loss: 1.4454 - val_loss: 1.4560\n",
      "Epoch 27/100\n",
      "40/40 [==============================] - 0s 1ms/step - loss: 1.4283 - val_loss: 1.4363\n",
      "Epoch 28/100\n",
      "40/40 [==============================] - 0s 1ms/step - loss: 1.4027 - val_loss: 1.4225\n",
      "Epoch 29/100\n",
      "40/40 [==============================] - 0s 1ms/step - loss: 1.3920 - val_loss: 1.4001\n",
      "Epoch 30/100\n",
      "40/40 [==============================] - 0s 1ms/step - loss: 1.3765 - val_loss: 1.4064\n",
      "Epoch 31/100\n",
      "40/40 [==============================] - 0s 1ms/step - loss: 1.3661 - val_loss: 1.3972\n",
      "Epoch 32/100\n",
      "40/40 [==============================] - 0s 1ms/step - loss: 1.3531 - val_loss: 1.3935\n",
      "Epoch 33/100\n",
      "40/40 [==============================] - 0s 1ms/step - loss: 1.3492 - val_loss: 1.3639\n",
      "Epoch 34/100\n",
      "40/40 [==============================] - 0s 1ms/step - loss: 1.3292 - val_loss: 1.3342\n",
      "Epoch 35/100\n",
      "40/40 [==============================] - 0s 1ms/step - loss: 1.3137 - val_loss: 1.3522\n",
      "Epoch 36/100\n",
      "40/40 [==============================] - 0s 1ms/step - loss: 1.3078 - val_loss: 1.3282\n",
      "Epoch 37/100\n",
      "40/40 [==============================] - 0s 1ms/step - loss: 1.2991 - val_loss: 1.3324\n",
      "Epoch 38/100\n",
      "40/40 [==============================] - 0s 1ms/step - loss: 1.2900 - val_loss: 1.2854\n",
      "Epoch 39/100\n",
      "40/40 [==============================] - 0s 1ms/step - loss: 1.2795 - val_loss: 1.3110\n",
      "Epoch 40/100\n",
      "40/40 [==============================] - 0s 1ms/step - loss: 1.2644 - val_loss: 1.2786\n",
      "Epoch 41/100\n",
      "40/40 [==============================] - 0s 1ms/step - loss: 1.2534 - val_loss: 1.2911\n",
      "Epoch 42/100\n",
      "40/40 [==============================] - 0s 1ms/step - loss: 1.2597 - val_loss: 1.2664\n",
      "Epoch 43/100\n",
      "40/40 [==============================] - 0s 1ms/step - loss: 1.2448 - val_loss: 1.2590\n",
      "Epoch 44/100\n",
      "40/40 [==============================] - 0s 1ms/step - loss: 1.2454 - val_loss: 1.2586\n",
      "Epoch 45/100\n",
      "40/40 [==============================] - 0s 1ms/step - loss: 1.2303 - val_loss: 1.2509\n",
      "Epoch 46/100\n",
      "40/40 [==============================] - 0s 1ms/step - loss: 1.2365 - val_loss: 1.2637\n",
      "Epoch 47/100\n",
      "40/40 [==============================] - 0s 1ms/step - loss: 1.2259 - val_loss: 1.2506\n",
      "Epoch 48/100\n",
      "40/40 [==============================] - 0s 1ms/step - loss: 1.2147 - val_loss: 1.2397\n",
      "Epoch 49/100\n",
      "40/40 [==============================] - 0s 1ms/step - loss: 1.2252 - val_loss: 1.2668\n",
      "Epoch 50/100\n",
      "40/40 [==============================] - 0s 1ms/step - loss: 1.2133 - val_loss: 1.2304\n",
      "Epoch 51/100\n",
      "40/40 [==============================] - 0s 1ms/step - loss: 1.2148 - val_loss: 1.2392\n",
      "Epoch 52/100\n",
      "40/40 [==============================] - 0s 1ms/step - loss: 1.2215 - val_loss: 1.2695\n",
      "Epoch 53/100\n",
      "40/40 [==============================] - 0s 1ms/step - loss: 1.2063 - val_loss: 1.2236\n",
      "Epoch 54/100\n",
      "40/40 [==============================] - 0s 1ms/step - loss: 1.1994 - val_loss: 1.2112\n",
      "Epoch 55/100\n",
      "40/40 [==============================] - 0s 1ms/step - loss: 1.1883 - val_loss: 1.2045\n",
      "Epoch 56/100\n",
      "40/40 [==============================] - 0s 1ms/step - loss: 1.1982 - val_loss: 1.2145\n",
      "Epoch 57/100\n",
      "40/40 [==============================] - 0s 1ms/step - loss: 1.1992 - val_loss: 1.2125\n",
      "Epoch 58/100\n",
      "40/40 [==============================] - 0s 1ms/step - loss: 1.1854 - val_loss: 1.2029\n",
      "Epoch 59/100\n",
      "40/40 [==============================] - 0s 1ms/step - loss: 1.1881 - val_loss: 1.2075\n",
      "Epoch 60/100\n",
      "40/40 [==============================] - 0s 1ms/step - loss: 1.1859 - val_loss: 1.2031\n",
      "Epoch 61/100\n",
      "40/40 [==============================] - 0s 1ms/step - loss: 1.1903 - val_loss: 1.2056\n",
      "Epoch 62/100\n",
      "40/40 [==============================] - 0s 1ms/step - loss: 1.1769 - val_loss: 1.1907\n",
      "Epoch 63/100\n",
      "40/40 [==============================] - 0s 974us/step - loss: 1.1703 - val_loss: 1.1948\n",
      "Epoch 64/100\n",
      "40/40 [==============================] - 0s 989us/step - loss: 1.1734 - val_loss: 1.1830\n",
      "Epoch 65/100\n",
      "40/40 [==============================] - 0s 934us/step - loss: 1.1708 - val_loss: 1.2082\n",
      "Epoch 66/100\n",
      "40/40 [==============================] - 0s 976us/step - loss: 1.1762 - val_loss: 1.1966\n",
      "Epoch 67/100\n",
      "40/40 [==============================] - 0s 1ms/step - loss: 1.1665 - val_loss: 1.2164\n",
      "Epoch 68/100\n",
      "40/40 [==============================] - 0s 1000us/step - loss: 1.1761 - val_loss: 1.1926\n",
      "Epoch 69/100\n",
      "40/40 [==============================] - 0s 1ms/step - loss: 1.1660 - val_loss: 1.2107\n",
      "Epoch 70/100\n",
      "40/40 [==============================] - 0s 1ms/step - loss: 1.1738 - val_loss: 1.1826\n",
      "Epoch 71/100\n",
      "40/40 [==============================] - 0s 998us/step - loss: 1.1662 - val_loss: 1.1985\n",
      "Epoch 72/100\n",
      "40/40 [==============================] - 0s 966us/step - loss: 1.1700 - val_loss: 1.2082\n",
      "Epoch 73/100\n",
      "40/40 [==============================] - 0s 1ms/step - loss: 1.1645 - val_loss: 1.1751\n",
      "Epoch 74/100\n",
      "40/40 [==============================] - 0s 1ms/step - loss: 1.1659 - val_loss: 1.1845\n",
      "Epoch 75/100\n",
      "40/40 [==============================] - 0s 1ms/step - loss: 1.1574 - val_loss: 1.1729\n",
      "Epoch 76/100\n",
      "40/40 [==============================] - 0s 1ms/step - loss: 1.1570 - val_loss: 1.1884\n",
      "Epoch 77/100\n",
      "40/40 [==============================] - 0s 1000us/step - loss: 1.1613 - val_loss: 1.1930\n",
      "Epoch 78/100\n",
      "40/40 [==============================] - 0s 959us/step - loss: 1.1561 - val_loss: 1.1847\n",
      "Epoch 79/100\n",
      "40/40 [==============================] - 0s 1ms/step - loss: 1.1643 - val_loss: 1.2032\n",
      "Epoch 80/100\n",
      "40/40 [==============================] - 0s 981us/step - loss: 1.1604 - val_loss: 1.1671\n",
      "Epoch 81/100\n",
      "40/40 [==============================] - 0s 1ms/step - loss: 1.1632 - val_loss: 1.1966\n",
      "Epoch 82/100\n",
      "40/40 [==============================] - 0s 933us/step - loss: 1.1568 - val_loss: 1.1745\n",
      "Epoch 83/100\n",
      "40/40 [==============================] - 0s 983us/step - loss: 1.1499 - val_loss: 1.1888\n",
      "Epoch 84/100\n",
      "40/40 [==============================] - 0s 956us/step - loss: 1.1583 - val_loss: 1.1727\n",
      "Epoch 85/100\n",
      "40/40 [==============================] - 0s 967us/step - loss: 1.1506 - val_loss: 1.1683\n",
      "Epoch 86/100\n",
      "40/40 [==============================] - 0s 952us/step - loss: 1.1535 - val_loss: 1.1870\n",
      "Epoch 87/100\n",
      "40/40 [==============================] - 0s 990us/step - loss: 1.1568 - val_loss: 1.1702\n",
      "Epoch 88/100\n",
      "40/40 [==============================] - 0s 990us/step - loss: 1.1499 - val_loss: 1.1882\n",
      "Epoch 89/100\n",
      "40/40 [==============================] - 0s 991us/step - loss: 1.1502 - val_loss: 1.1910\n",
      "Epoch 90/100\n",
      "40/40 [==============================] - 0s 941us/step - loss: 1.1511 - val_loss: 1.1639\n",
      "Epoch 91/100\n",
      "40/40 [==============================] - 0s 1ms/step - loss: 1.1552 - val_loss: 1.1705\n",
      "Epoch 92/100\n",
      "40/40 [==============================] - 0s 1ms/step - loss: 1.1489 - val_loss: 1.1820\n",
      "Epoch 93/100\n",
      "40/40 [==============================] - 0s 1ms/step - loss: 1.1461 - val_loss: 1.1836\n",
      "Epoch 94/100\n",
      "40/40 [==============================] - 0s 979us/step - loss: 1.1512 - val_loss: 1.1634\n",
      "Epoch 95/100\n",
      "40/40 [==============================] - 0s 1ms/step - loss: 1.1541 - val_loss: 1.1685\n",
      "Epoch 96/100\n",
      "40/40 [==============================] - 0s 1ms/step - loss: 1.1498 - val_loss: 1.1739\n",
      "Epoch 97/100\n",
      "40/40 [==============================] - 0s 991us/step - loss: 1.1419 - val_loss: 1.1709\n",
      "Epoch 98/100\n",
      "40/40 [==============================] - 0s 994us/step - loss: 1.1576 - val_loss: 1.2886\n",
      "Epoch 99/100\n",
      "40/40 [==============================] - 0s 986us/step - loss: 1.1662 - val_loss: 1.1628\n",
      "Epoch 100/100\n",
      "40/40 [==============================] - 0s 991us/step - loss: 1.1432 - val_loss: 1.1687\n",
      "7/7 [==============================] - 0s 782us/step - loss: 1.1687\n",
      "Epoch 1/100\n",
      "40/40 [==============================] - 0s 2ms/step - loss: 18.2415 - val_loss: 7.1423\n",
      "Epoch 2/100\n",
      "40/40 [==============================] - 0s 928us/step - loss: 5.4089 - val_loss: 3.9217\n",
      "Epoch 3/100\n",
      "40/40 [==============================] - 0s 911us/step - loss: 3.2464 - val_loss: 2.8492\n",
      "Epoch 4/100\n",
      "40/40 [==============================] - 0s 968us/step - loss: 2.7581 - val_loss: 2.6133\n",
      "Epoch 5/100\n",
      "40/40 [==============================] - 0s 925us/step - loss: 2.5647 - val_loss: 2.4430\n",
      "Epoch 6/100\n",
      "40/40 [==============================] - 0s 868us/step - loss: 2.4247 - val_loss: 2.3601\n",
      "Epoch 7/100\n",
      "40/40 [==============================] - 0s 890us/step - loss: 2.3031 - val_loss: 2.2471\n",
      "Epoch 8/100\n",
      "40/40 [==============================] - 0s 957us/step - loss: 2.1982 - val_loss: 2.1327\n",
      "Epoch 9/100\n",
      "40/40 [==============================] - 0s 858us/step - loss: 2.1097 - val_loss: 2.0382\n",
      "Epoch 10/100\n",
      "40/40 [==============================] - 0s 912us/step - loss: 2.0383 - val_loss: 1.9658\n",
      "Epoch 11/100\n",
      "40/40 [==============================] - 0s 945us/step - loss: 1.9639 - val_loss: 1.9164\n",
      "Epoch 12/100\n",
      "40/40 [==============================] - 0s 937us/step - loss: 1.8976 - val_loss: 1.8643\n",
      "Epoch 13/100\n",
      "40/40 [==============================] - 0s 967us/step - loss: 1.8383 - val_loss: 1.7942\n",
      "Epoch 14/100\n",
      "40/40 [==============================] - 0s 991us/step - loss: 1.7913 - val_loss: 1.7463\n",
      "Epoch 15/100\n",
      "40/40 [==============================] - 0s 991us/step - loss: 1.7368 - val_loss: 1.6955\n",
      "Epoch 16/100\n",
      "40/40 [==============================] - 0s 970us/step - loss: 1.6909 - val_loss: 1.6645\n",
      "Epoch 17/100\n",
      "40/40 [==============================] - 0s 1ms/step - loss: 1.6505 - val_loss: 1.6243\n",
      "Epoch 18/100\n",
      "40/40 [==============================] - 0s 955us/step - loss: 1.6125 - val_loss: 1.5886\n",
      "Epoch 19/100\n",
      "40/40 [==============================] - 0s 1ms/step - loss: 1.5759 - val_loss: 1.5335\n",
      "Epoch 20/100\n",
      "40/40 [==============================] - 0s 922us/step - loss: 1.5428 - val_loss: 1.5182\n",
      "Epoch 21/100\n",
      "40/40 [==============================] - 0s 962us/step - loss: 1.5174 - val_loss: 1.5035\n",
      "Epoch 22/100\n",
      "40/40 [==============================] - 0s 1ms/step - loss: 1.4867 - val_loss: 1.4786\n",
      "Epoch 23/100\n",
      "40/40 [==============================] - 0s 1ms/step - loss: 1.4560 - val_loss: 1.4431\n",
      "Epoch 24/100\n",
      "40/40 [==============================] - 0s 995us/step - loss: 1.4310 - val_loss: 1.4066\n",
      "Epoch 25/100\n",
      "40/40 [==============================] - 0s 992us/step - loss: 1.4156 - val_loss: 1.3950\n",
      "Epoch 26/100\n",
      "40/40 [==============================] - 0s 967us/step - loss: 1.3959 - val_loss: 1.3577\n",
      "Epoch 27/100\n",
      "40/40 [==============================] - 0s 1ms/step - loss: 1.3730 - val_loss: 1.3536\n",
      "Epoch 28/100\n",
      "40/40 [==============================] - 0s 994us/step - loss: 1.3557 - val_loss: 1.3243\n",
      "Epoch 29/100\n",
      "40/40 [==============================] - 0s 991us/step - loss: 1.3384 - val_loss: 1.3492\n",
      "Epoch 30/100\n",
      "40/40 [==============================] - 0s 992us/step - loss: 1.3368 - val_loss: 1.3056\n",
      "Epoch 31/100\n",
      "40/40 [==============================] - 0s 1ms/step - loss: 1.3133 - val_loss: 1.3101\n",
      "Epoch 32/100\n",
      "40/40 [==============================] - 0s 1ms/step - loss: 1.3151 - val_loss: 1.2949\n",
      "Epoch 33/100\n",
      "40/40 [==============================] - 0s 1ms/step - loss: 1.2899 - val_loss: 1.2784\n",
      "Epoch 34/100\n",
      "40/40 [==============================] - 0s 1ms/step - loss: 1.2764 - val_loss: 1.2883\n",
      "Epoch 35/100\n",
      "40/40 [==============================] - 0s 999us/step - loss: 1.2620 - val_loss: 1.2406\n",
      "Epoch 36/100\n",
      "40/40 [==============================] - 0s 1ms/step - loss: 1.2569 - val_loss: 1.2340\n",
      "Epoch 37/100\n",
      "40/40 [==============================] - 0s 1ms/step - loss: 1.2388 - val_loss: 1.2351\n",
      "Epoch 38/100\n",
      "40/40 [==============================] - 0s 1ms/step - loss: 1.2303 - val_loss: 1.2175\n",
      "Epoch 39/100\n",
      "40/40 [==============================] - 0s 1ms/step - loss: 1.2237 - val_loss: 1.2031\n",
      "Epoch 40/100\n",
      "40/40 [==============================] - 0s 1ms/step - loss: 1.2257 - val_loss: 1.1923\n",
      "Epoch 41/100\n",
      "40/40 [==============================] - 0s 1ms/step - loss: 1.2073 - val_loss: 1.2026\n",
      "Epoch 42/100\n",
      "40/40 [==============================] - 0s 1ms/step - loss: 1.1986 - val_loss: 1.1836\n",
      "Epoch 43/100\n",
      "40/40 [==============================] - 0s 1ms/step - loss: 1.2075 - val_loss: 1.2001\n",
      "Epoch 44/100\n",
      "40/40 [==============================] - 0s 993us/step - loss: 1.1889 - val_loss: 1.1681\n",
      "Epoch 45/100\n",
      "40/40 [==============================] - 0s 1ms/step - loss: 1.1807 - val_loss: 1.1771\n",
      "Epoch 46/100\n",
      "40/40 [==============================] - 0s 993us/step - loss: 1.1798 - val_loss: 1.1856\n",
      "Epoch 47/100\n",
      "40/40 [==============================] - 0s 1ms/step - loss: 1.1795 - val_loss: 1.1681\n",
      "Epoch 48/100\n",
      "40/40 [==============================] - 0s 1ms/step - loss: 1.1787 - val_loss: 1.1590\n",
      "Epoch 49/100\n",
      "40/40 [==============================] - 0s 1ms/step - loss: 1.1635 - val_loss: 1.1709\n",
      "Epoch 50/100\n",
      "40/40 [==============================] - 0s 1ms/step - loss: 1.1561 - val_loss: 1.1777\n",
      "Epoch 51/100\n",
      "40/40 [==============================] - 0s 1ms/step - loss: 1.1611 - val_loss: 1.1720\n",
      "Epoch 52/100\n",
      "40/40 [==============================] - 0s 1ms/step - loss: 1.1554 - val_loss: 1.1527\n",
      "Epoch 53/100\n",
      "40/40 [==============================] - 0s 1ms/step - loss: 1.1624 - val_loss: 1.1653\n",
      "Epoch 54/100\n",
      "40/40 [==============================] - 0s 992us/step - loss: 1.1499 - val_loss: 1.1319\n",
      "Epoch 55/100\n",
      "40/40 [==============================] - 0s 997us/step - loss: 1.1370 - val_loss: 1.1262\n",
      "Epoch 56/100\n",
      "40/40 [==============================] - 0s 991us/step - loss: 1.1426 - val_loss: 1.1963\n",
      "Epoch 57/100\n",
      "40/40 [==============================] - 0s 990us/step - loss: 1.1640 - val_loss: 1.1397\n",
      "Epoch 58/100\n",
      "40/40 [==============================] - 0s 1ms/step - loss: 1.1432 - val_loss: 1.1372\n",
      "Epoch 59/100\n",
      "40/40 [==============================] - 0s 1ms/step - loss: 1.1322 - val_loss: 1.1376\n",
      "Epoch 60/100\n",
      "40/40 [==============================] - 0s 991us/step - loss: 1.1297 - val_loss: 1.1316\n",
      "Epoch 61/100\n",
      "40/40 [==============================] - 0s 1ms/step - loss: 1.1400 - val_loss: 1.1260\n",
      "Epoch 62/100\n"
     ]
    },
    {
     "name": "stdout",
     "output_type": "stream",
     "text": [
      "40/40 [==============================] - 0s 1ms/step - loss: 1.1311 - val_loss: 1.1196\n",
      "Epoch 63/100\n",
      "40/40 [==============================] - 0s 1ms/step - loss: 1.1217 - val_loss: 1.1334\n",
      "Epoch 64/100\n",
      "40/40 [==============================] - 0s 971us/step - loss: 1.1334 - val_loss: 1.1437\n",
      "Epoch 65/100\n",
      "40/40 [==============================] - 0s 991us/step - loss: 1.1220 - val_loss: 1.1240\n",
      "Epoch 66/100\n",
      "40/40 [==============================] - 0s 993us/step - loss: 1.1257 - val_loss: 1.1363\n",
      "Epoch 67/100\n",
      "40/40 [==============================] - 0s 990us/step - loss: 1.1183 - val_loss: 1.1227\n",
      "Epoch 68/100\n",
      "40/40 [==============================] - 0s 1ms/step - loss: 1.1183 - val_loss: 1.1198\n",
      "Epoch 69/100\n",
      "40/40 [==============================] - 0s 1ms/step - loss: 1.1268 - val_loss: 1.1399\n",
      "Epoch 70/100\n",
      "40/40 [==============================] - 0s 981us/step - loss: 1.1197 - val_loss: 1.0995\n",
      "Epoch 71/100\n",
      "40/40 [==============================] - 0s 1ms/step - loss: 1.1143 - val_loss: 1.1322\n",
      "Epoch 72/100\n",
      "40/40 [==============================] - 0s 961us/step - loss: 1.1161 - val_loss: 1.0981\n",
      "Epoch 73/100\n",
      "40/40 [==============================] - 0s 1ms/step - loss: 1.1090 - val_loss: 1.1038\n",
      "Epoch 74/100\n",
      "40/40 [==============================] - 0s 1ms/step - loss: 1.1093 - val_loss: 1.1072\n",
      "Epoch 75/100\n",
      "40/40 [==============================] - 0s 1ms/step - loss: 1.1124 - val_loss: 1.1134\n",
      "Epoch 76/100\n",
      "40/40 [==============================] - 0s 993us/step - loss: 1.1116 - val_loss: 1.1210\n",
      "Epoch 77/100\n",
      "40/40 [==============================] - 0s 1ms/step - loss: 1.1100 - val_loss: 1.1336\n",
      "Epoch 78/100\n",
      "40/40 [==============================] - 0s 1ms/step - loss: 1.1150 - val_loss: 1.1042\n",
      "Epoch 79/100\n",
      "40/40 [==============================] - 0s 945us/step - loss: 1.1063 - val_loss: 1.0879\n",
      "Epoch 80/100\n",
      "40/40 [==============================] - 0s 993us/step - loss: 1.1082 - val_loss: 1.0896\n",
      "Epoch 81/100\n",
      "40/40 [==============================] - 0s 989us/step - loss: 1.1027 - val_loss: 1.1300\n",
      "Epoch 82/100\n",
      "40/40 [==============================] - 0s 1ms/step - loss: 1.1060 - val_loss: 1.0947\n",
      "Epoch 83/100\n",
      "40/40 [==============================] - 0s 1ms/step - loss: 1.1010 - val_loss: 1.0962\n",
      "Epoch 84/100\n",
      "40/40 [==============================] - 0s 956us/step - loss: 1.0996 - val_loss: 1.0898\n",
      "Epoch 85/100\n",
      "40/40 [==============================] - 0s 1ms/step - loss: 1.1027 - val_loss: 1.1154\n",
      "Epoch 86/100\n",
      "40/40 [==============================] - 0s 999us/step - loss: 1.1043 - val_loss: 1.1156\n",
      "Epoch 87/100\n",
      "40/40 [==============================] - 0s 984us/step - loss: 1.1094 - val_loss: 1.1139\n",
      "Epoch 88/100\n",
      "40/40 [==============================] - 0s 941us/step - loss: 1.1121 - val_loss: 1.0937\n",
      "Epoch 89/100\n",
      "40/40 [==============================] - 0s 1ms/step - loss: 1.0949 - val_loss: 1.0873\n",
      "Epoch 90/100\n",
      "40/40 [==============================] - 0s 974us/step - loss: 1.0984 - val_loss: 1.1512\n",
      "Epoch 91/100\n",
      "40/40 [==============================] - 0s 992us/step - loss: 1.1093 - val_loss: 1.0859\n",
      "Epoch 92/100\n",
      "40/40 [==============================] - 0s 995us/step - loss: 1.1017 - val_loss: 1.0806\n",
      "Epoch 93/100\n",
      "40/40 [==============================] - 0s 987us/step - loss: 1.1044 - val_loss: 1.0796\n",
      "Epoch 94/100\n",
      " 1/40 [..............................] - ETA: 0s - loss: 1.0387"
     ]
    }
   ],
   "source": [
    "MSEs=[]\n",
    "learning_rate=0.001\n",
    "batch_size = 20\n",
    "epochs=100\n",
    "#Cluster1\n",
    "Adam_regulized_model_1.compile(loss='mean_squared_error',\n",
    "              optimizer=Adam(learning_rate))\n",
    "\n",
    "Adam_regulized_model_1.fit(x1_train, y1_train, batch_size=batch_size, epochs=epochs, validation_data=(x1_test, y1_test))\n",
    "MSE1 = Adam_regulized_model_1.evaluate(x1_test, y1_test)\n",
    "#Cluster2\n",
    "Adam_regulized_model_2.compile(loss='mean_squared_error',\n",
    "              optimizer=Adam(learning_rate))\n",
    "\n",
    "Adam_regulized_model_2.fit(x2_train, y2_train, batch_size=batch_size, epochs=epochs, validation_data=(x2_test, y2_test))\n",
    "MSE2 = Adam_regulized_model_2.evaluate(x2_test, y2_test)\n",
    "#Cluster3\n",
    "Adam_regulized_model_3.compile(loss='mean_squared_error',\n",
    "              optimizer=Adam(learning_rate))\n",
    "\n",
    "Adam_regulized_model_3.fit(x3_train, y3_train, batch_size=batch_size, epochs=epochs, validation_data=(x3_test, y3_test))\n",
    "MSE3 = Adam_regulized_model_3.evaluate(x3_test, y3_test)"
   ]
  },
  {
   "cell_type": "code",
   "execution_count": null,
   "id": "eb85dee7",
   "metadata": {},
   "outputs": [],
   "source": [
    "MSEs.append(MSE1)\n",
    "MSEs.append(MSE2)\n",
    "MSEs.append(MSE3)\n",
    "MSEs"
   ]
  },
  {
   "cell_type": "code",
   "execution_count": null,
   "id": "a7f27c36",
   "metadata": {},
   "outputs": [],
   "source": [
    "#Cluster1\n",
    "u1 = Adam_regulized_model_1.predict(U1)\n",
    "u1 = boundary(u1)\n",
    "#Cluster2\n",
    "u2 = Adam_regulized_model_2.predict(U2)\n",
    "u2 = boundary(u2)\n",
    "#Cluster3\n",
    "u3 = Adam_regulized_model_3.predict(U3)\n",
    "u3 = boundary(u3)\n",
    "\n",
    "P1 = np.concatenate((U1_ID, u1), axis=1)\n",
    "P2 = np.concatenate((U2_ID, u2), axis=1)\n",
    "P3 = np.concatenate((U3_ID, u3), axis=1)"
   ]
  },
  {
   "cell_type": "code",
   "execution_count": null,
   "id": "6f848bbd",
   "metadata": {},
   "outputs": [],
   "source": [
    "final_1500_matrix_for_Adam =  np.concatenate((P1,P2,P3), axis=0)\n",
    "final_1500_matrix_for_Adam=final_1500_matrix_for_Adam.astype(int)\n",
    "final_1500_matrix_for_Adam"
   ]
  },
  {
   "cell_type": "code",
   "execution_count": null,
   "id": "8482965a",
   "metadata": {},
   "outputs": [],
   "source": [
    "fields = ['USER ID', 'adrian crater', 'anagram mentor', 'apropos pizza', 'bandit anatomy', 'banjo ladder', 'barcode arnold', 'bazooka diagram', 'bronze mystic', 'calypso zigzag', 'casino unit', 'civil book', 'company polo', 'conan antenna', 'current pony', 'diploma moment', 'distant list', 'evita soviet', 'forum bravo', 'front salami', 'garden jimmy', 'helium exact', 'horizon norway', 'house vodka', 'image jessica', 'imagine disco', 'inch fragile', 'june monica', 'kayak analog', 'kitchen active', 'lobster diana', 'lotus sherman', 'meteor slalom', 'meter sigma', 'mexico stretch', 'motor modular', 'nina sailor', 'ninja history', 'optimal recycle', 'oregano option', 'oxford open', 'panic inside', 'pepper chicago', 'peru king', 'picnic locate', 'popcorn shannon', 'premium bread', 'process volume', 'risk corona', 'ritual product', 'sabine danube', 'saint desert', 'salsa impress', 'salute joshua', 'scale nepal', 'secret postage', 'sensor child', 'ship canal', 'spend oberon', 'stop tropic', 'story respect', 'strong plume', 'studio classic', 'sweet alert', 'swing martin', 'topic rover', 'tourist micro', 'tripod stand', 'update lola', 'ventura puzzle', 'viking llama', 'violet saga', 'vista queen', 'viva avalon', 'voodoo planet', 'wheel gibson']"
   ]
  },
  {
   "cell_type": "code",
   "execution_count": null,
   "id": "f2aa7343",
   "metadata": {},
   "outputs": [],
   "source": [
    "df = pd.DataFrame(final_1500_matrix_for_Adam, columns = fields)\n",
    "df.sort_values('USER ID')\n",
    "df.head()\n",
    "df.to_csv('Adam_prediction_1500.csv',index=False)"
   ]
  },
  {
   "cell_type": "code",
   "execution_count": null,
   "id": "044de2d0",
   "metadata": {},
   "outputs": [],
   "source": [
    "df2 = pd.read_csv(\"3000_prediction.csv\")\n",
    "frames = [df2, df]\n",
    "result = pd.concat(frames)\n",
    "result.sort_values('USER ID')\n",
    "result.to_csv('Adam_prediction_4500.csv',index=False)"
   ]
  }
 ],
 "metadata": {
  "colab": {
   "collapsed_sections": [],
   "name": "122 Final Project (part SWJ & JWX).ipynb",
   "provenance": []
  },
  "kernelspec": {
   "display_name": "Python 3",
   "language": "python",
   "name": "python3"
  },
  "language_info": {
   "codemirror_mode": {
    "name": "ipython",
    "version": 3
   },
   "file_extension": ".py",
   "mimetype": "text/x-python",
   "name": "python",
   "nbconvert_exporter": "python",
   "pygments_lexer": "ipython3",
   "version": "3.8.8"
  }
 },
 "nbformat": 4,
 "nbformat_minor": 5
}
